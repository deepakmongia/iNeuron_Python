{
 "cells": [
  {
   "cell_type": "markdown",
   "metadata": {},
   "source": [
    "# Cassandra"
   ]
  },
  {
   "cell_type": "code",
   "execution_count": 1,
   "metadata": {},
   "outputs": [],
   "source": [
    "import cassandra"
   ]
  },
  {
   "cell_type": "code",
   "execution_count": 2,
   "metadata": {},
   "outputs": [
    {
     "name": "stdout",
     "output_type": "stream",
     "text": [
      "3.25.0\n"
     ]
    }
   ],
   "source": [
    "print(cassandra.__version__)"
   ]
  },
  {
   "cell_type": "code",
   "execution_count": 3,
   "metadata": {},
   "outputs": [
    {
     "name": "stdout",
     "output_type": "stream",
     "text": [
      "4.0.0.6813\n"
     ]
    }
   ],
   "source": [
    "from cassandra.cluster import Cluster\n",
    "from cassandra.auth import PlainTextAuthProvider\n",
    "\n",
    "cloud_config= {\n",
    "        'secure_connect_bundle': '/Users/deepakmongia/Documents/Data Science/iNeuron/Databases/Cassandra/secure-connect-testdb.zip'\n",
    "}\n",
    "auth_provider = PlainTextAuthProvider('UfmZkOkIfTCUdDYyqKlOrFlA', 'pHSdfvu08j-,7ecZozLkNQOhz7E+yUAn0E.c8XfxndLa3a8sRO_qC7GMg7P9BDWp4P8TsbsS.zOOT0PZonZuKIeoNPWa++zQB_TEoY9,9csiApQLyqQfgb69MbZuhZ34')\n",
    "cluster = Cluster(cloud=cloud_config, auth_provider=auth_provider)\n",
    "session = cluster.connect()\n",
    "\n",
    "row = session.execute(\"select release_version from system.local\").one()\n",
    "if row:\n",
    "    print(row[0])\n",
    "else:\n",
    "    print(\"An error occurred.\")"
   ]
  },
  {
   "cell_type": "code",
   "execution_count": 4,
   "metadata": {},
   "outputs": [
    {
     "name": "stdout",
     "output_type": "stream",
     "text": [
      "<cassandra.cluster.ResultSet object at 0x7fa9697c5280>\n"
     ]
    }
   ],
   "source": [
    "row = session.execute(\"use deepak\")\n",
    "print(row)"
   ]
  },
  {
   "cell_type": "code",
   "execution_count": 5,
   "metadata": {},
   "outputs": [
    {
     "name": "stdout",
     "output_type": "stream",
     "text": [
      "Row(keyspace_name='system_auth', durable_writes=True, graph_engine=None, replication=OrderedMapSerializedKey([('class', 'org.apache.cassandra.locator.NetworkTopologyStrategy'), ('us-east-1', '3')]))\n"
     ]
    }
   ],
   "source": [
    "row = session.execute(\"SELECT * FROM system_schema.keyspaces\").one()\n",
    "print(row)"
   ]
  },
  {
   "cell_type": "code",
   "execution_count": 6,
   "metadata": {},
   "outputs": [
    {
     "name": "stdout",
     "output_type": "stream",
     "text": [
      "system_auth\n"
     ]
    }
   ],
   "source": [
    "from cassandra.cluster import Cluster\n",
    "from cassandra.auth import PlainTextAuthProvider\n",
    "\n",
    "cloud_config= {\n",
    "        'secure_connect_bundle': '/Users/deepakmongia/Documents/Data Science/iNeuron/Databases/Cassandra/secure-connect-testdb.zip'\n",
    "}\n",
    "auth_provider = PlainTextAuthProvider('UfmZkOkIfTCUdDYyqKlOrFlA', 'pHSdfvu08j-,7ecZozLkNQOhz7E+yUAn0E.c8XfxndLa3a8sRO_qC7GMg7P9BDWp4P8TsbsS.zOOT0PZonZuKIeoNPWa++zQB_TEoY9,9csiApQLyqQfgb69MbZuhZ34')\n",
    "cluster = Cluster(cloud=cloud_config, auth_provider=auth_provider)\n",
    "session = cluster.connect()\n",
    "\n",
    "row = session.execute(\"SELECT * FROM system_schema.keyspaces\").one()\n",
    "if row:\n",
    "    print(row[0])\n",
    "else:\n",
    "    print(\"An error occurred.\")"
   ]
  },
  {
   "cell_type": "code",
   "execution_count": 7,
   "metadata": {},
   "outputs": [
    {
     "data": {
      "text/plain": [
       "<cassandra.cluster.ResultSet at 0x7fa938090940>"
      ]
     },
     "execution_count": 7,
     "metadata": {},
     "output_type": "execute_result"
    }
   ],
   "source": [
    "session.execute(\"drop table if exists deepak.emp;\")"
   ]
  },
  {
   "cell_type": "code",
   "execution_count": 8,
   "metadata": {},
   "outputs": [],
   "source": [
    "row = session.execute(\" CREATE TABLE deepak.emp(emp_id int PRIMARY KEY,emp_name text,emp_city text,emp_sal varint,emp_phone varint);\").one()"
   ]
  },
  {
   "cell_type": "code",
   "execution_count": 9,
   "metadata": {},
   "outputs": [],
   "source": [
    "row = session.execute(\" SELECT * FROM deepak.emp;\").one()"
   ]
  },
  {
   "cell_type": "code",
   "execution_count": 11,
   "metadata": {},
   "outputs": [
    {
     "data": {
      "text/plain": [
       "<cassandra.cluster.ResultSet at 0x7fa969801040>"
      ]
     },
     "execution_count": 11,
     "metadata": {},
     "output_type": "execute_result"
    }
   ],
   "source": [
    "session.execute(\" INSERT INTO deepak.emp (emp_id,emp_name,emp_city,emp_sal,emp_phone ) values(123, 'deepak', 'chicago', 100, 2323);\" )"
   ]
  },
  {
   "cell_type": "code",
   "execution_count": 12,
   "metadata": {},
   "outputs": [
    {
     "name": "stdout",
     "output_type": "stream",
     "text": [
      "Row(emp_id=123, emp_city='chicago', emp_name='deepak', emp_phone=2323, emp_sal=100)\n"
     ]
    }
   ],
   "source": [
    "row = session.execute(\" SELECT * FROM deepak.emp;\").one()\n",
    "print(row)"
   ]
  },
  {
   "cell_type": "code",
   "execution_count": 13,
   "metadata": {
    "scrolled": true
   },
   "outputs": [
    {
     "name": "stdout",
     "output_type": "stream",
     "text": [
      "None\n"
     ]
    }
   ],
   "source": [
    "row = session.execute(\" INSERT INTO deepak.emp (emp_id,emp_name,emp_city,emp_sal,emp_phone ) values(124, 'deepak', 'chicago', 100, 2323);\" ).one()\n",
    "print(row)"
   ]
  },
  {
   "cell_type": "code",
   "execution_count": 14,
   "metadata": {},
   "outputs": [
    {
     "name": "stdout",
     "output_type": "stream",
     "text": [
      "Row(emp_id=123, emp_city='chicago', emp_name='deepak', emp_phone=2323, emp_sal=100)\n",
      "Row(emp_id=124, emp_city='chicago', emp_name='deepak', emp_phone=2323, emp_sal=100)\n"
     ]
    }
   ],
   "source": [
    "row = session.execute(\" SELECT * FROM deepak.emp;\")\n",
    "for i in row:\n",
    "    print(i)"
   ]
  },
  {
   "cell_type": "code",
   "execution_count": 15,
   "metadata": {},
   "outputs": [],
   "source": [
    "session.execute(\" INSERT INTO deepak.emp (emp_id,emp_name,emp_city,emp_sal,emp_phone ) values(125, 'E1', 'chicago', 100, 2323);\" ).one()\n",
    "session.execute(\" INSERT INTO deepak.emp (emp_id,emp_name,emp_city,emp_sal,emp_phone ) values(126, 'E2', 'chicago', 100, 2323);\" ).one()\n",
    "session.execute(\" INSERT INTO deepak.emp (emp_id,emp_name,emp_city,emp_sal,emp_phone ) values(127, 'E3', 'chicago', 100, 2323);\" ).one()\n",
    "session.execute(\" INSERT INTO deepak.emp (emp_id,emp_name,emp_city,emp_sal,emp_phone ) values(128, 'E4', 'chicago', 100, 2323);\" ).one()\n",
    "session.execute(\" INSERT INTO deepak.emp (emp_id,emp_name,emp_city,emp_sal,emp_phone ) values(129, 'E5', 'chicago', 100, 2323);\" ).one()\n",
    "session.execute(\" INSERT INTO deepak.emp (emp_id,emp_name,emp_city,emp_sal,emp_phone ) values(130, 'E6', 'chicago', 100, 2323);\" ).one()\n",
    "session.execute(\" INSERT INTO deepak.emp (emp_id,emp_name,emp_city,emp_sal,emp_phone ) values(131, 'E7', 'chicago', 100, 2323);\" ).one()\n",
    "session.execute(\" INSERT INTO deepak.emp (emp_id,emp_name,emp_city,emp_sal,emp_phone ) values(132, 'E8', 'chicago', 100, 2323);\" ).one()\n",
    "session.execute(\" INSERT INTO deepak.emp (emp_id,emp_name,emp_city,emp_sal,emp_phone ) values(133, 'E9', 'chicago', 100, 2323);\" ).one()\n",
    "session.execute(\" INSERT INTO deepak.emp (emp_id,emp_name,emp_city,emp_sal,emp_phone ) values(134, 'E10', 'chicago', 100, 2323);\" ).one()"
   ]
  },
  {
   "cell_type": "code",
   "execution_count": 16,
   "metadata": {},
   "outputs": [
    {
     "name": "stdout",
     "output_type": "stream",
     "text": [
      "Row(emp_id=128, emp_city='chicago', emp_name='E4', emp_phone=2323, emp_sal=100)\n",
      "Row(emp_id=129, emp_city='chicago', emp_name='E5', emp_phone=2323, emp_sal=100)\n",
      "Row(emp_id=132, emp_city='chicago', emp_name='E8', emp_phone=2323, emp_sal=100)\n",
      "Row(emp_id=123, emp_city='chicago', emp_name='deepak', emp_phone=2323, emp_sal=100)\n",
      "Row(emp_id=125, emp_city='chicago', emp_name='E1', emp_phone=2323, emp_sal=100)\n",
      "Row(emp_id=134, emp_city='chicago', emp_name='E10', emp_phone=2323, emp_sal=100)\n",
      "Row(emp_id=130, emp_city='chicago', emp_name='E6', emp_phone=2323, emp_sal=100)\n",
      "Row(emp_id=131, emp_city='chicago', emp_name='E7', emp_phone=2323, emp_sal=100)\n",
      "Row(emp_id=126, emp_city='chicago', emp_name='E2', emp_phone=2323, emp_sal=100)\n",
      "Row(emp_id=127, emp_city='chicago', emp_name='E3', emp_phone=2323, emp_sal=100)\n",
      "Row(emp_id=124, emp_city='chicago', emp_name='deepak', emp_phone=2323, emp_sal=100)\n",
      "Row(emp_id=133, emp_city='chicago', emp_name='E9', emp_phone=2323, emp_sal=100)\n"
     ]
    }
   ],
   "source": [
    "row = session.execute(\" SELECT * FROM deepak.emp;\")\n",
    "for i in row:\n",
    "    print(i)"
   ]
  },
  {
   "cell_type": "code",
   "execution_count": 17,
   "metadata": {},
   "outputs": [
    {
     "data": {
      "text/plain": [
       "<cassandra.cluster.ResultSet at 0x7fa930020f40>"
      ]
     },
     "execution_count": 17,
     "metadata": {},
     "output_type": "execute_result"
    }
   ],
   "source": [
    "session.execute(\"update deepak.emp set emp_name = 'E80' where emp_id = 132\")"
   ]
  },
  {
   "cell_type": "code",
   "execution_count": 18,
   "metadata": {
    "scrolled": true
   },
   "outputs": [
    {
     "name": "stdout",
     "output_type": "stream",
     "text": [
      "Row(emp_id=128, emp_city='chicago', emp_name='E4', emp_phone=2323, emp_sal=100)\n",
      "Row(emp_id=129, emp_city='chicago', emp_name='E5', emp_phone=2323, emp_sal=100)\n",
      "Row(emp_id=132, emp_city='chicago', emp_name='E80', emp_phone=2323, emp_sal=100)\n",
      "Row(emp_id=123, emp_city='chicago', emp_name='deepak', emp_phone=2323, emp_sal=100)\n",
      "Row(emp_id=125, emp_city='chicago', emp_name='E1', emp_phone=2323, emp_sal=100)\n",
      "Row(emp_id=134, emp_city='chicago', emp_name='E10', emp_phone=2323, emp_sal=100)\n",
      "Row(emp_id=130, emp_city='chicago', emp_name='E6', emp_phone=2323, emp_sal=100)\n",
      "Row(emp_id=131, emp_city='chicago', emp_name='E7', emp_phone=2323, emp_sal=100)\n",
      "Row(emp_id=126, emp_city='chicago', emp_name='E2', emp_phone=2323, emp_sal=100)\n",
      "Row(emp_id=127, emp_city='chicago', emp_name='E3', emp_phone=2323, emp_sal=100)\n",
      "Row(emp_id=124, emp_city='chicago', emp_name='deepak', emp_phone=2323, emp_sal=100)\n",
      "Row(emp_id=133, emp_city='chicago', emp_name='E9', emp_phone=2323, emp_sal=100)\n"
     ]
    }
   ],
   "source": [
    "row = session.execute(\" SELECT * FROM deepak.emp;\")\n",
    "for i in row:\n",
    "    print(i)"
   ]
  },
  {
   "cell_type": "code",
   "execution_count": 19,
   "metadata": {},
   "outputs": [
    {
     "data": {
      "text/plain": [
       "<cassandra.cluster.ResultSet at 0x7fa93808b3d0>"
      ]
     },
     "execution_count": 19,
     "metadata": {},
     "output_type": "execute_result"
    }
   ],
   "source": [
    "session.execute(\"\"\"alter table deepak.emp add emp_mid_init text\"\"\")"
   ]
  },
  {
   "cell_type": "code",
   "execution_count": 20,
   "metadata": {},
   "outputs": [
    {
     "name": "stdout",
     "output_type": "stream",
     "text": [
      "Row(emp_id=128, emp_city='chicago', emp_mid_init=None, emp_name='E4', emp_phone=2323, emp_sal=100)\n",
      "Row(emp_id=129, emp_city='chicago', emp_mid_init=None, emp_name='E5', emp_phone=2323, emp_sal=100)\n",
      "Row(emp_id=132, emp_city='chicago', emp_mid_init=None, emp_name='E80', emp_phone=2323, emp_sal=100)\n",
      "Row(emp_id=123, emp_city='chicago', emp_mid_init=None, emp_name='deepak', emp_phone=2323, emp_sal=100)\n",
      "Row(emp_id=125, emp_city='chicago', emp_mid_init=None, emp_name='E1', emp_phone=2323, emp_sal=100)\n",
      "Row(emp_id=134, emp_city='chicago', emp_mid_init=None, emp_name='E10', emp_phone=2323, emp_sal=100)\n",
      "Row(emp_id=130, emp_city='chicago', emp_mid_init=None, emp_name='E6', emp_phone=2323, emp_sal=100)\n",
      "Row(emp_id=131, emp_city='chicago', emp_mid_init=None, emp_name='E7', emp_phone=2323, emp_sal=100)\n",
      "Row(emp_id=126, emp_city='chicago', emp_mid_init=None, emp_name='E2', emp_phone=2323, emp_sal=100)\n",
      "Row(emp_id=127, emp_city='chicago', emp_mid_init=None, emp_name='E3', emp_phone=2323, emp_sal=100)\n",
      "Row(emp_id=124, emp_city='chicago', emp_mid_init=None, emp_name='deepak', emp_phone=2323, emp_sal=100)\n",
      "Row(emp_id=133, emp_city='chicago', emp_mid_init=None, emp_name='E9', emp_phone=2323, emp_sal=100)\n"
     ]
    }
   ],
   "source": [
    "row = session.execute(\" SELECT * FROM deepak.emp;\")\n",
    "for i in row:\n",
    "    print(i)"
   ]
  },
  {
   "cell_type": "code",
   "execution_count": 21,
   "metadata": {},
   "outputs": [
    {
     "data": {
      "text/plain": [
       "<cassandra.cluster.ResultSet at 0x7fa92805d730>"
      ]
     },
     "execution_count": 21,
     "metadata": {},
     "output_type": "execute_result"
    }
   ],
   "source": [
    "session.execute(\"\"\"update deepak.emp \n",
    "                    set emp_mid_init = 'M' where\n",
    "                    emp_id in (123, 124, 125, 126, 127, 128, 129, 130);\"\"\")"
   ]
  },
  {
   "cell_type": "code",
   "execution_count": 22,
   "metadata": {},
   "outputs": [
    {
     "data": {
      "text/plain": [
       "<cassandra.cluster.ResultSet at 0x7fa91806bac0>"
      ]
     },
     "execution_count": 22,
     "metadata": {},
     "output_type": "execute_result"
    }
   ],
   "source": [
    "session.execute(\"\"\"update deepak.emp \n",
    "                    set emp_mid_init = 'N' where\n",
    "                    emp_id in (131, 132, 133, 134);\"\"\")"
   ]
  },
  {
   "cell_type": "code",
   "execution_count": 23,
   "metadata": {
    "scrolled": true
   },
   "outputs": [
    {
     "name": "stdout",
     "output_type": "stream",
     "text": [
      "Row(emp_id=128, emp_city='chicago', emp_mid_init='M', emp_name='E4', emp_phone=2323, emp_sal=100)\n",
      "Row(emp_id=129, emp_city='chicago', emp_mid_init='M', emp_name='E5', emp_phone=2323, emp_sal=100)\n",
      "Row(emp_id=132, emp_city='chicago', emp_mid_init='N', emp_name='E80', emp_phone=2323, emp_sal=100)\n",
      "Row(emp_id=123, emp_city='chicago', emp_mid_init='M', emp_name='deepak', emp_phone=2323, emp_sal=100)\n",
      "Row(emp_id=125, emp_city='chicago', emp_mid_init='M', emp_name='E1', emp_phone=2323, emp_sal=100)\n",
      "Row(emp_id=134, emp_city='chicago', emp_mid_init='N', emp_name='E10', emp_phone=2323, emp_sal=100)\n",
      "Row(emp_id=130, emp_city='chicago', emp_mid_init='M', emp_name='E6', emp_phone=2323, emp_sal=100)\n",
      "Row(emp_id=131, emp_city='chicago', emp_mid_init='N', emp_name='E7', emp_phone=2323, emp_sal=100)\n",
      "Row(emp_id=126, emp_city='chicago', emp_mid_init='M', emp_name='E2', emp_phone=2323, emp_sal=100)\n",
      "Row(emp_id=127, emp_city='chicago', emp_mid_init='M', emp_name='E3', emp_phone=2323, emp_sal=100)\n",
      "Row(emp_id=124, emp_city='chicago', emp_mid_init='M', emp_name='deepak', emp_phone=2323, emp_sal=100)\n",
      "Row(emp_id=133, emp_city='chicago', emp_mid_init='N', emp_name='E9', emp_phone=2323, emp_sal=100)\n"
     ]
    }
   ],
   "source": [
    "row = session.execute(\" SELECT * FROM deepak.emp;\")\n",
    "for i in row:\n",
    "    print(i)"
   ]
  },
  {
   "cell_type": "code",
   "execution_count": 24,
   "metadata": {},
   "outputs": [
    {
     "name": "stdout",
     "output_type": "stream",
     "text": [
      "Row(system_sum_emp_sal=400)\n"
     ]
    }
   ],
   "source": [
    "row = session.execute(\"\"\" SELECT sum(emp_sal) FROM deepak.emp where emp_mid_init = 'N'\n",
    "                            allow filtering ;\"\"\").one()\n",
    "print(row)"
   ]
  },
  {
   "cell_type": "code",
   "execution_count": 25,
   "metadata": {},
   "outputs": [
    {
     "name": "stdout",
     "output_type": "stream",
     "text": [
      "Row(system_sum_emp_sal=800)\n"
     ]
    }
   ],
   "source": [
    "row = session.execute(\"\"\" SELECT sum(emp_sal) FROM deepak.emp where emp_mid_init = 'M'\n",
    "                            allow filtering ;\"\"\").one()\n",
    "print(row)"
   ]
  }
 ],
 "metadata": {
  "kernelspec": {
   "display_name": "Python 3",
   "language": "python",
   "name": "python3"
  },
  "language_info": {
   "codemirror_mode": {
    "name": "ipython",
    "version": 3
   },
   "file_extension": ".py",
   "mimetype": "text/x-python",
   "name": "python",
   "nbconvert_exporter": "python",
   "pygments_lexer": "ipython3",
   "version": "3.8.5"
  }
 },
 "nbformat": 4,
 "nbformat_minor": 4
}
