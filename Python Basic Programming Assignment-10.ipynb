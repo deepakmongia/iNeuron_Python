{
 "cells": [
  {
   "cell_type": "markdown",
   "metadata": {},
   "source": [
    "# Python Basic Programming Assignment-10"
   ]
  },
  {
   "cell_type": "markdown",
   "metadata": {},
   "source": [
    "### 1. Write a Python program to find sum of elements in list?"
   ]
  },
  {
   "cell_type": "code",
   "execution_count": 1,
   "metadata": {},
   "outputs": [],
   "source": [
    "import logging as lg"
   ]
  },
  {
   "cell_type": "code",
   "execution_count": 2,
   "metadata": {},
   "outputs": [],
   "source": [
    "lg.basicConfig(filename = \"logfile.log\", level = lg.INFO, format = '%(asctime)s %(name)s %(message)s')"
   ]
  },
  {
   "cell_type": "code",
   "execution_count": 3,
   "metadata": {},
   "outputs": [],
   "source": [
    "def sum_list(list_inp):\n",
    "    try:\n",
    "        lg.info(\"Input from the user : {}\".format(list_inp))\n",
    "        return sum(list_inp)\n",
    "    except Exception as e:\n",
    "        print(\"An error occured. Please check logs.\")\n",
    "        lg.error(\"error has occured\")\n",
    "        lg.exception(str(e))"
   ]
  },
  {
   "cell_type": "code",
   "execution_count": 4,
   "metadata": {},
   "outputs": [
    {
     "data": {
      "text/plain": [
       "6"
      ]
     },
     "execution_count": 4,
     "metadata": {},
     "output_type": "execute_result"
    }
   ],
   "source": [
    "sum([1,2,3])"
   ]
  },
  {
   "cell_type": "code",
   "execution_count": 5,
   "metadata": {},
   "outputs": [
    {
     "name": "stdout",
     "output_type": "stream",
     "text": [
      "An error occured. Please check logs.\n"
     ]
    }
   ],
   "source": [
    "sum_list(1)"
   ]
  },
  {
   "cell_type": "code",
   "execution_count": 6,
   "metadata": {},
   "outputs": [
    {
     "data": {
      "text/plain": [
       "19.8"
      ]
     },
     "execution_count": 6,
     "metadata": {},
     "output_type": "execute_result"
    }
   ],
   "source": [
    "sum_list([4,5,10.8])"
   ]
  },
  {
   "cell_type": "markdown",
   "metadata": {},
   "source": [
    "### 2. Write a Python program to  Multiply all numbers in the list?"
   ]
  },
  {
   "cell_type": "code",
   "execution_count": 7,
   "metadata": {},
   "outputs": [],
   "source": [
    "def multiply_list_elements(list_inp):\n",
    "    try:\n",
    "        lg.info(\"Input from the user : {}\".format(list_inp))\n",
    "        multiply_result = 1\n",
    "        for num in list_inp:\n",
    "            multiply_result = multiply_result * num\n",
    "            \n",
    "        return multiply_result\n",
    "    except Exception as e:\n",
    "        print(\"An error occured. Please check logs.\")\n",
    "        lg.error(\"error has occured\")\n",
    "        lg.exception(str(e))"
   ]
  },
  {
   "cell_type": "code",
   "execution_count": 8,
   "metadata": {},
   "outputs": [
    {
     "data": {
      "text/plain": [
       "6"
      ]
     },
     "execution_count": 8,
     "metadata": {},
     "output_type": "execute_result"
    }
   ],
   "source": [
    "multiply_list_elements((1,2,3))"
   ]
  },
  {
   "cell_type": "code",
   "execution_count": 9,
   "metadata": {},
   "outputs": [
    {
     "data": {
      "text/plain": [
       "120"
      ]
     },
     "execution_count": 9,
     "metadata": {},
     "output_type": "execute_result"
    }
   ],
   "source": [
    "multiply_list_elements([3,4,10])"
   ]
  },
  {
   "cell_type": "code",
   "execution_count": 10,
   "metadata": {},
   "outputs": [
    {
     "data": {
      "text/plain": [
       "50.0"
      ]
     },
     "execution_count": 10,
     "metadata": {},
     "output_type": "execute_result"
    }
   ],
   "source": [
    "multiply_list_elements([4,5,2.5])"
   ]
  },
  {
   "cell_type": "markdown",
   "metadata": {},
   "source": [
    "### 3. Write a Python program to find smallest number in a list?"
   ]
  },
  {
   "cell_type": "code",
   "execution_count": 11,
   "metadata": {},
   "outputs": [],
   "source": [
    "def smallest_in_list(list_inp):\n",
    "    try:\n",
    "        lg.info(\"Input from the user : {}\".format(list_inp))\n",
    "        return(min(list_inp))\n",
    "        \n",
    "    except Exception as e:\n",
    "        print(\"An error occured. Please check logs.\")\n",
    "        lg.error(\"error has occured\")\n",
    "        lg.exception(str(e))"
   ]
  },
  {
   "cell_type": "code",
   "execution_count": 12,
   "metadata": {},
   "outputs": [
    {
     "data": {
      "text/plain": [
       "-3"
      ]
     },
     "execution_count": 12,
     "metadata": {},
     "output_type": "execute_result"
    }
   ],
   "source": [
    "smallest_in_list([6,1,3,0,100,-3])"
   ]
  },
  {
   "cell_type": "code",
   "execution_count": 13,
   "metadata": {},
   "outputs": [
    {
     "name": "stdout",
     "output_type": "stream",
     "text": [
      "An error occured. Please check logs.\n"
     ]
    }
   ],
   "source": [
    "smallest_in_list(4)"
   ]
  },
  {
   "cell_type": "code",
   "execution_count": 14,
   "metadata": {},
   "outputs": [
    {
     "name": "stdout",
     "output_type": "stream",
     "text": [
      "An error occured. Please check logs.\n"
     ]
    }
   ],
   "source": [
    "smallest_in_list([3, 9, 1, 'abc'])"
   ]
  },
  {
   "cell_type": "markdown",
   "metadata": {},
   "source": [
    "### 4. Write a Python program to find largest number in a list?"
   ]
  },
  {
   "cell_type": "code",
   "execution_count": 15,
   "metadata": {},
   "outputs": [],
   "source": [
    "def largest_in_list(list_inp):\n",
    "    try:\n",
    "        lg.info(\"Input from the user : {}\".format(list_inp))\n",
    "        #return(max(list_inp))\n",
    "        \n",
    "        max_value = list_inp[0]\n",
    "        for num in list_inp:\n",
    "            if num > max_value:\n",
    "                max_value = num\n",
    "        \n",
    "        return max_value\n",
    "        \n",
    "    except Exception as e:\n",
    "        print(\"An error occured. Please check logs.\")\n",
    "        lg.error(\"error has occured\")\n",
    "        lg.exception(str(e))"
   ]
  },
  {
   "cell_type": "code",
   "execution_count": 16,
   "metadata": {},
   "outputs": [
    {
     "data": {
      "text/plain": [
       "10"
      ]
     },
     "execution_count": 16,
     "metadata": {},
     "output_type": "execute_result"
    }
   ],
   "source": [
    "largest_in_list([3,1,-5,10,8,7])"
   ]
  },
  {
   "cell_type": "code",
   "execution_count": 17,
   "metadata": {},
   "outputs": [
    {
     "name": "stdout",
     "output_type": "stream",
     "text": [
      "An error occured. Please check logs.\n"
     ]
    }
   ],
   "source": [
    "largest_in_list(8)"
   ]
  },
  {
   "cell_type": "code",
   "execution_count": 18,
   "metadata": {},
   "outputs": [
    {
     "name": "stdout",
     "output_type": "stream",
     "text": [
      "An error occured. Please check logs.\n"
     ]
    }
   ],
   "source": [
    "largest_in_list([10,2,12, 'ab'])"
   ]
  },
  {
   "cell_type": "markdown",
   "metadata": {},
   "source": [
    "### 5. Write a Python program to find second largest number in a list?"
   ]
  },
  {
   "cell_type": "code",
   "execution_count": 19,
   "metadata": {},
   "outputs": [],
   "source": [
    "def nth_largest_in_list(list_inp, n):\n",
    "    \"\"\"\n",
    "    This function gives the nth largest number in a list. \n",
    "    This function takes in 2 inputs - a list and the value of n for which the nth largest number \n",
    "    needs to be extracted.\n",
    "    \"\"\"\n",
    "    try:\n",
    "        lg.info(\"Input from the user : {}\".format(list_inp))\n",
    "        #return(max(list_inp))\n",
    "        \n",
    "        list_inp_copy = list_inp\n",
    "        \n",
    "        if n == 0:\n",
    "            return None\n",
    "        \n",
    "        for i in range(n):\n",
    "            max_value = list_inp_copy[0]\n",
    "            \n",
    "            for num in list_inp_copy:\n",
    "                if num > max_value:\n",
    "                    max_value = num\n",
    "            \n",
    "            list_inp_copy = [j for j in list_inp_copy if not j == max_value]\n",
    "        \n",
    "        return max_value\n",
    "        \n",
    "    except Exception as e:\n",
    "        print(\"An error occured. Please check logs.\")\n",
    "        lg.error(\"error has occured\")\n",
    "        lg.exception(str(e))"
   ]
  },
  {
   "cell_type": "code",
   "execution_count": 20,
   "metadata": {},
   "outputs": [],
   "source": [
    "a = [3,1,5,16,10,2,16, 10, 6,10, 7]"
   ]
  },
  {
   "cell_type": "code",
   "execution_count": 21,
   "metadata": {},
   "outputs": [
    {
     "data": {
      "text/plain": [
       "10"
      ]
     },
     "execution_count": 21,
     "metadata": {},
     "output_type": "execute_result"
    }
   ],
   "source": [
    "nth_largest_in_list(a, 2)"
   ]
  },
  {
   "cell_type": "markdown",
   "metadata": {},
   "source": [
    "### 6. Write a Python program to find N largest elements from a list?"
   ]
  },
  {
   "cell_type": "code",
   "execution_count": 22,
   "metadata": {},
   "outputs": [],
   "source": [
    "def n_largest_elements_in_list(list_inp, n):\n",
    "    \"\"\"\n",
    "    This function gives the n largest numbers in a list in the form of a list. \n",
    "    This function takes in 2 inputs - a list and the value of n for which the n largest numbers \n",
    "    need to be extracted.\n",
    "    \"\"\"\n",
    "    try:\n",
    "        lg.info(\"Input from the user : {}\".format(list_inp))\n",
    "        #return(max(list_inp))\n",
    "        \n",
    "        list_inp_copy = list_inp\n",
    "        n_largest_items = []\n",
    "        \n",
    "        if n == 0:\n",
    "            return n_largest_items\n",
    "        \n",
    "        for i in range(n):\n",
    "            max_value = list_inp_copy[0]\n",
    "            \n",
    "            for num in list_inp_copy:\n",
    "                if num > max_value:\n",
    "                    max_value = num\n",
    "            \n",
    "            list_inp_copy = [j for j in list_inp_copy if not j == max_value]\n",
    "            \n",
    "            n_largest_items.append(max_value)\n",
    "        \n",
    "        return n_largest_items\n",
    "        \n",
    "    except Exception as e:\n",
    "        print(\"An error occured. Please check logs.\")\n",
    "        lg.error(\"error has occured\")\n",
    "        lg.exception(str(e))"
   ]
  },
  {
   "cell_type": "code",
   "execution_count": 23,
   "metadata": {},
   "outputs": [],
   "source": [
    "a = [3,1,5,16,10,2,16, 10, 6,10, 7]"
   ]
  },
  {
   "cell_type": "code",
   "execution_count": 24,
   "metadata": {},
   "outputs": [
    {
     "data": {
      "text/plain": [
       "[16, 10, 7]"
      ]
     },
     "execution_count": 24,
     "metadata": {},
     "output_type": "execute_result"
    }
   ],
   "source": [
    "n_largest_elements_in_list(a, 3)"
   ]
  },
  {
   "cell_type": "code",
   "execution_count": 25,
   "metadata": {},
   "outputs": [
    {
     "data": {
      "text/plain": [
       "[16, 10, 7, 6, 5]"
      ]
     },
     "execution_count": 25,
     "metadata": {},
     "output_type": "execute_result"
    }
   ],
   "source": [
    "n_largest_elements_in_list(a, 5)"
   ]
  },
  {
   "cell_type": "markdown",
   "metadata": {},
   "source": [
    "### 6. Write a Python program to print even numbers in a list?"
   ]
  },
  {
   "cell_type": "code",
   "execution_count": 26,
   "metadata": {},
   "outputs": [],
   "source": [
    "def print_even_in_list(list_inp):\n",
    "    \"\"\"\n",
    "    This function prints even numbers in a list.\n",
    "    \"\"\"\n",
    "    try:\n",
    "        lg.info(\"Input from the user : {}\".format(list_inp))\n",
    "        #return(max(list_inp))\n",
    "        \n",
    "        for num in list_inp:\n",
    "            if num % 2 == 0:\n",
    "                print(num)\n",
    "        \n",
    "    except Exception as e:\n",
    "        print(\"An error occured. Please check logs.\")\n",
    "        lg.error(\"error has occured\")\n",
    "        lg.exception(str(e))"
   ]
  },
  {
   "cell_type": "code",
   "execution_count": 27,
   "metadata": {},
   "outputs": [],
   "source": [
    "a = [3,1,5,16,10,2,16, 10, 6,10, 7]"
   ]
  },
  {
   "cell_type": "code",
   "execution_count": 28,
   "metadata": {},
   "outputs": [
    {
     "name": "stdout",
     "output_type": "stream",
     "text": [
      "16\n",
      "10\n",
      "2\n",
      "16\n",
      "10\n",
      "6\n",
      "10\n"
     ]
    }
   ],
   "source": [
    "print_even_in_list(a)"
   ]
  },
  {
   "cell_type": "markdown",
   "metadata": {},
   "source": [
    "### 8. Write a Python program to print odd numbers in a List?"
   ]
  },
  {
   "cell_type": "code",
   "execution_count": 29,
   "metadata": {},
   "outputs": [],
   "source": [
    "def print_odd_in_list(list_inp):\n",
    "    \"\"\"\n",
    "    This function prints odd numbers in a list.\n",
    "    \"\"\"\n",
    "    try:\n",
    "        lg.info(\"Input from the user : {}\".format(list_inp))\n",
    "        \n",
    "        for num in list_inp:\n",
    "            if not (num % 2 == 0):\n",
    "                print(num)\n",
    "        \n",
    "    except Exception as e:\n",
    "        print(\"An error occured. Please check logs.\")\n",
    "        lg.error(\"error has occured\")\n",
    "        lg.exception(str(e))"
   ]
  },
  {
   "cell_type": "code",
   "execution_count": 30,
   "metadata": {},
   "outputs": [],
   "source": [
    "a = [3,1,5,16,10,2,16, 10, 6,10, 7]"
   ]
  },
  {
   "cell_type": "code",
   "execution_count": 31,
   "metadata": {},
   "outputs": [
    {
     "name": "stdout",
     "output_type": "stream",
     "text": [
      "3\n",
      "1\n",
      "5\n",
      "7\n"
     ]
    }
   ],
   "source": [
    "print_odd_in_list(a)"
   ]
  },
  {
   "cell_type": "markdown",
   "metadata": {},
   "source": [
    "### 9. Write a Python program to Remove empty List from List?"
   ]
  },
  {
   "cell_type": "code",
   "execution_count": 32,
   "metadata": {},
   "outputs": [],
   "source": [
    "b = [3,1,5,16,[], 10,2,16, 10, [], 6,10, 7]"
   ]
  },
  {
   "cell_type": "code",
   "execution_count": 33,
   "metadata": {},
   "outputs": [
    {
     "data": {
      "text/plain": [
       "[3, 1, 5, 16, 10, 2, 16, 10, 6, 10, 7]"
      ]
     },
     "execution_count": 33,
     "metadata": {},
     "output_type": "execute_result"
    }
   ],
   "source": [
    "[i for i in b if not (type(i) == list and len(i) == 0)]"
   ]
  },
  {
   "cell_type": "code",
   "execution_count": 34,
   "metadata": {},
   "outputs": [],
   "source": [
    "def remove_empty_list_in_list(list_inp):\n",
    "    \"\"\"\n",
    "    This function empty lists in a list, if any.\n",
    "    \"\"\"\n",
    "    try:\n",
    "        lg.info(\"Input from the user : {}\".format(list_inp))\n",
    "        \n",
    "        result_list = [i for i in list_inp if not (type(i) == list and len(i) == 0)]\n",
    "        \n",
    "        return result_list\n",
    "        \n",
    "    except Exception as e:\n",
    "        print(\"An error occured. Please check logs.\")\n",
    "        lg.error(\"error has occured\")\n",
    "        lg.exception(str(e))"
   ]
  },
  {
   "cell_type": "code",
   "execution_count": 35,
   "metadata": {},
   "outputs": [
    {
     "data": {
      "text/plain": [
       "[3, 1, 5, 16, 10, 2, 16, 10, 6, 10, 7]"
      ]
     },
     "execution_count": 35,
     "metadata": {},
     "output_type": "execute_result"
    }
   ],
   "source": [
    "remove_empty_list_in_list([3,1,5,16,[], 10,2,16, 10, [], 6,10, 7])"
   ]
  },
  {
   "cell_type": "code",
   "execution_count": 36,
   "metadata": {},
   "outputs": [
    {
     "data": {
      "text/plain": [
       "[3, 1, 5, 16, [4], 10, 2, 16, 10, 6, ['ab', 2], 10, 7]"
      ]
     },
     "execution_count": 36,
     "metadata": {},
     "output_type": "execute_result"
    }
   ],
   "source": [
    "remove_empty_list_in_list([3,1,5,16,[], [4], 10,2,16, 10, [], 6, ['ab', 2], 10, 7])"
   ]
  },
  {
   "cell_type": "markdown",
   "metadata": {},
   "source": [
    "### 10. Write a Python program to Cloning or Copying a list?"
   ]
  },
  {
   "cell_type": "code",
   "execution_count": 37,
   "metadata": {},
   "outputs": [],
   "source": [
    "### Shallow copy\n",
    "l1 = [3,5,6]"
   ]
  },
  {
   "cell_type": "code",
   "execution_count": 38,
   "metadata": {},
   "outputs": [],
   "source": [
    "l2 = l1.copy()"
   ]
  },
  {
   "cell_type": "code",
   "execution_count": 39,
   "metadata": {},
   "outputs": [
    {
     "data": {
      "text/plain": [
       "[3, 5, 6]"
      ]
     },
     "execution_count": 39,
     "metadata": {},
     "output_type": "execute_result"
    }
   ],
   "source": [
    "l2"
   ]
  },
  {
   "cell_type": "code",
   "execution_count": 40,
   "metadata": {},
   "outputs": [],
   "source": [
    "l2.append(10)"
   ]
  },
  {
   "cell_type": "code",
   "execution_count": 41,
   "metadata": {},
   "outputs": [
    {
     "data": {
      "text/plain": [
       "[3, 5, 6, 10]"
      ]
     },
     "execution_count": 41,
     "metadata": {},
     "output_type": "execute_result"
    }
   ],
   "source": [
    "l2"
   ]
  },
  {
   "cell_type": "code",
   "execution_count": 42,
   "metadata": {},
   "outputs": [
    {
     "data": {
      "text/plain": [
       "[3, 5, 6]"
      ]
     },
     "execution_count": 42,
     "metadata": {},
     "output_type": "execute_result"
    }
   ],
   "source": [
    "l1"
   ]
  },
  {
   "cell_type": "markdown",
   "metadata": {},
   "source": [
    "### 11. Write a Python program to Count occurrences of an element in a list?"
   ]
  },
  {
   "cell_type": "code",
   "execution_count": 43,
   "metadata": {},
   "outputs": [],
   "source": [
    "def count_occurences_in_list(list_inp, element):\n",
    "    \"\"\"\n",
    "    This function counts the occurences of the given element in the list.\n",
    "    \"\"\"\n",
    "    try:\n",
    "        lg.info(\"Input from the user : {}\".format(list_inp))\n",
    "        \n",
    "        temp_list = [i for i in list_inp if i == element]\n",
    "        return(len(temp_list))\n",
    "        \n",
    "    except Exception as e:\n",
    "        print(\"An error occured. Please check logs.\")\n",
    "        lg.error(\"error has occured\")\n",
    "        lg.exception(str(e))"
   ]
  },
  {
   "cell_type": "code",
   "execution_count": 44,
   "metadata": {},
   "outputs": [
    {
     "data": {
      "text/plain": [
       "3"
      ]
     },
     "execution_count": 44,
     "metadata": {},
     "output_type": "execute_result"
    }
   ],
   "source": [
    "count_occurences_in_list([3,1,5,16,10,2,16, 10, 6,10, 7], 10)"
   ]
  },
  {
   "cell_type": "code",
   "execution_count": 45,
   "metadata": {},
   "outputs": [
    {
     "data": {
      "text/plain": [
       "0"
      ]
     },
     "execution_count": 45,
     "metadata": {},
     "output_type": "execute_result"
    }
   ],
   "source": [
    "count_occurences_in_list([3,1,5,16,10,2,16, 10, 6,10, 7], 9)"
   ]
  },
  {
   "cell_type": "code",
   "execution_count": 46,
   "metadata": {},
   "outputs": [
    {
     "data": {
      "text/plain": [
       "2"
      ]
     },
     "execution_count": 46,
     "metadata": {},
     "output_type": "execute_result"
    }
   ],
   "source": [
    "count_occurences_in_list([3,1,5,16,10,2,16, 10, 6,10, 7], 16)"
   ]
  }
 ],
 "metadata": {
  "kernelspec": {
   "display_name": "Python 3",
   "language": "python",
   "name": "python3"
  },
  "language_info": {
   "codemirror_mode": {
    "name": "ipython",
    "version": 3
   },
   "file_extension": ".py",
   "mimetype": "text/x-python",
   "name": "python",
   "nbconvert_exporter": "python",
   "pygments_lexer": "ipython3",
   "version": "3.8.5"
  }
 },
 "nbformat": 4,
 "nbformat_minor": 4
}
