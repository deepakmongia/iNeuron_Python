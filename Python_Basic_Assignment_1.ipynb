{
 "cells": [
  {
   "cell_type": "markdown",
   "metadata": {},
   "source": [
    "# Python Basic Assignment - 1"
   ]
  },
  {
   "cell_type": "markdown",
   "metadata": {},
   "source": [
    "### 1. What are the differences between operators and values in the following?"
   ]
  },
  {
   "cell_type": "markdown",
   "metadata": {},
   "source": [
    "### Answer:\n",
    "\\*      —> \tMultiplication operator\n",
    "\n",
    "'hello'\t\t—>\tis a string with a value used only for display purpose here, and not an assigned variable\n",
    "\n",
    "-87.8\t\t—>\ta negative decimal literal \n",
    "\n",
    "\\-\t\t—>\tminus operator\n",
    "\n",
    "/\t\t—>\tdivide operator\n",
    "\n",
    "\\+\t\t—>\tplus operator\n",
    "\n",
    "6\t\t—>\tinteger literal"
   ]
  },
  {
   "cell_type": "markdown",
   "metadata": {},
   "source": [
    "### 2. What is the difference between string and variable?\n",
    "#### spam\n",
    "#### 'spam'"
   ]
  },
  {
   "cell_type": "markdown",
   "metadata": {},
   "source": [
    "#### Answer:\n",
    "A string is a value of a string type literal or a string type variable.\n",
    "\n",
    "A variable is a name given to a memory space which can hold any data type."
   ]
  },
  {
   "cell_type": "markdown",
   "metadata": {},
   "source": [
    "### 3. Describe three different data forms."
   ]
  },
  {
   "cell_type": "markdown",
   "metadata": {},
   "source": [
    "#### Answer: \n",
    "##### Tuples\t-\t\n",
    "Tuple is a collection of object which is indexed, but is immutable meaning it cannot be changed after it is defined. It is generally used for a fixed set of objects which should never be changed, even by mistake, like months of the year, days of the week, basic colors like RGB.\n",
    "\n",
    "##### Lists\t\t\t-\t\n",
    "List is a collection of objects, either same data type or different data types, which are stored in a single variable, and can be referred to using indexes. Python lists are very useful whenever one dimensional data is needed, even though it can keep any types of data types or data structures.\n",
    "\n",
    "##### Dictionaries\t\t-\t\n",
    "Dictionary is a collection of key-value pairs which are generally used as a look-up for mapping a key to a value. A key can only be something which is hashable or for that matter immutable. Generally, \n"
   ]
  },
  {
   "cell_type": "markdown",
   "metadata": {},
   "source": [
    "### 4. What makes up an expression? What are the functions of all expressions?"
   ]
  },
  {
   "cell_type": "markdown",
   "metadata": {},
   "source": [
    "#### Answer:\n",
    "An expression is an instruction which involves one or more mathematical operations between 2 or more literals and/or variables, and then that is assigned to a variable.\n",
    "\n",
    "The function of expressions is to assign a value to a variable."
   ]
  },
  {
   "cell_type": "markdown",
   "metadata": {},
   "source": [
    "### 5. In this chapter, assignment statements such as spam = 10 were added. What's the difference between a declaration and an expression?"
   ]
  },
  {
   "cell_type": "markdown",
   "metadata": {},
   "source": [
    "#### Answer:\n",
    "A declaration can simply be a blank assignment to a new variable, as in Python, there is no concept of explicit declaration of a new variable. As soon as a variable is assigned a value using a literal or an expression, the assigned variable gets declared as well.\n",
    "\n",
    "On the other hand, an expression is a mathematical operation of 2 or more literals and/or variables, and is the right hand side of the assignment operation."
   ]
  },
  {
   "cell_type": "markdown",
   "metadata": {},
   "source": [
    "### 6. After running the following code, what does the variable bacon contain?\n",
    "#### bacon = 22\n",
    "#### bacon + 1"
   ]
  },
  {
   "cell_type": "markdown",
   "metadata": {},
   "source": [
    "#### Answer:\n",
    "The value of bacon remains 22, as bacon + 1 is just a display expression, and is not assigned to the variable bacon."
   ]
  },
  {
   "cell_type": "markdown",
   "metadata": {},
   "source": [
    "### 7. What should the values of the following two terms be?\n",
    "\n",
    "#### 'spam' + 'spamspam'\n",
    "#### 'spam' * 3"
   ]
  },
  {
   "cell_type": "markdown",
   "metadata": {},
   "source": [
    "#### Answer: \n",
    "‘spamspamspam’ – for both"
   ]
  },
  {
   "cell_type": "code",
   "execution_count": 1,
   "metadata": {},
   "outputs": [
    {
     "name": "stdout",
     "output_type": "stream",
     "text": [
      "spamspamspam\n",
      "spamspamspam\n"
     ]
    }
   ],
   "source": [
    "print('spam' + 'spamspam')\n",
    "print('spam' * 3)"
   ]
  },
  {
   "cell_type": "markdown",
   "metadata": {},
   "source": [
    "### 8. Why is it that eggs is a true variable name but 100 is not?"
   ]
  },
  {
   "cell_type": "markdown",
   "metadata": {},
   "source": [
    "#### Answer: \n",
    "A variable name can only start with an alphabet or an underscore."
   ]
  },
  {
   "cell_type": "markdown",
   "metadata": {},
   "source": [
    "### 9. Which of the following three functions may be used to convert a value to an integer, a floating-point number, or a string?"
   ]
  },
  {
   "cell_type": "markdown",
   "metadata": {},
   "source": [
    "#### Answer: \n",
    "int() function – to convert a value to an integer\n",
    "\n",
    "float() function – to convert a value to a float\n",
    "\n",
    "str() function – to convert a value to a string"
   ]
  },
  {
   "cell_type": "markdown",
   "metadata": {},
   "source": [
    "### 10. What is the error caused by this expression? What would you do about it?\n",
    "\n",
    "#### 'I have eaten ' + 99 + ' burritos."
   ]
  },
  {
   "cell_type": "markdown",
   "metadata": {},
   "source": [
    "#### Answer:\n",
    "We cannot concatenate an integer to string. For this to happen, the integer will have to be converted to a string using str() function. So, the below will work in this case:\n",
    "\n",
    "'I have eaten ' + str(99) + ' burritos.'"
   ]
  },
  {
   "cell_type": "code",
   "execution_count": 2,
   "metadata": {},
   "outputs": [
    {
     "data": {
      "text/plain": [
       "'I have eaten 99 burritos.'"
      ]
     },
     "execution_count": 2,
     "metadata": {},
     "output_type": "execute_result"
    }
   ],
   "source": [
    "'I have eaten ' + str(99) + ' burritos.'"
   ]
  }
 ],
 "metadata": {
  "kernelspec": {
   "display_name": "Python 3",
   "language": "python",
   "name": "python3"
  },
  "language_info": {
   "codemirror_mode": {
    "name": "ipython",
    "version": 3
   },
   "file_extension": ".py",
   "mimetype": "text/x-python",
   "name": "python",
   "nbconvert_exporter": "python",
   "pygments_lexer": "ipython3",
   "version": "3.8.5"
  }
 },
 "nbformat": 4,
 "nbformat_minor": 4
}
