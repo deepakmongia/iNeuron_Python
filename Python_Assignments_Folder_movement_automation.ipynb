{
 "cells": [
  {
   "cell_type": "code",
   "execution_count": 87,
   "metadata": {},
   "outputs": [],
   "source": [
    "import os\n",
    "import re\n",
    "import shutil"
   ]
  },
  {
   "cell_type": "code",
   "execution_count": 2,
   "metadata": {},
   "outputs": [
    {
     "data": {
      "text/plain": [
       "'/Users/deepakmongia/Documents/Data Science/iNeuron/Python/Python Assignments'"
      ]
     },
     "execution_count": 2,
     "metadata": {},
     "output_type": "execute_result"
    }
   ],
   "source": [
    "os.getcwd()"
   ]
  },
  {
   "cell_type": "code",
   "execution_count": 3,
   "metadata": {},
   "outputs": [],
   "source": [
    "os.chdir('/Users/deepakmongia/Downloads')"
   ]
  },
  {
   "cell_type": "code",
   "execution_count": 89,
   "metadata": {},
   "outputs": [],
   "source": [
    "download_lib = '/Users/deepakmongia/Downloads'"
   ]
  },
  {
   "cell_type": "code",
   "execution_count": 4,
   "metadata": {},
   "outputs": [
    {
     "data": {
      "text/plain": [
       "'/Users/deepakmongia/Downloads'"
      ]
     },
     "execution_count": 4,
     "metadata": {},
     "output_type": "execute_result"
    }
   ],
   "source": [
    "os.getcwd()"
   ]
  },
  {
   "cell_type": "code",
   "execution_count": 59,
   "metadata": {},
   "outputs": [],
   "source": [
    "pattern1 = re.compile(r'[Aa]ssignment_\\d+.docx')\n",
    "pattern2 = re.compile(r'[Aa]ssignment_\\d+\\-2.docx')\n",
    "pattern3 = re.compile(r'Programming_Assingment\\d+.docx')\n",
    "pattern4 = re.compile(r'Assignment\\d+.docx')"
   ]
  },
  {
   "cell_type": "code",
   "execution_count": 11,
   "metadata": {},
   "outputs": [],
   "source": [
    "python_asnmt_lib = \"/Users/deepakmongia/Documents/Data Science/iNeuron/Python/Python Assignments\""
   ]
  },
  {
   "cell_type": "code",
   "execution_count": 90,
   "metadata": {},
   "outputs": [],
   "source": [
    "for file in os.listdir():\n",
    "    if bool(pattern1.search(file)):\n",
    "        rel_lib_name = 'Python Basic Assignment'\n",
    "        #print(\"basic assignment match - file name : {}\".format(file))\n",
    "        if ('Python Basic Assignment' in os.listdir(python_asnmt_lib)):\n",
    "            os.mkdir(os.path.join(python_asnmt_lib, rel_lib_name, file.split('.doc')[0]))\n",
    "            shutil.move(os.path.join(download_lib, file), os.path.join(python_asnmt_lib, rel_lib_name, file.split('.doc')[0]))\n",
    "        else:\n",
    "            os.mkdir(os.path.join(python_asnmt_lib, 'Python Basic Assignment'))\n",
    "            os.mkdir(os.path.join(python_asnmt_lib, rel_lib_name, file.split('.doc')[0]))\n",
    "            shutil.move(os.path.join(download_lib, file), os.path.join(python_asnmt_lib, rel_lib_name, file.split('.doc')[0]))\n",
    "        \n",
    "    if bool(pattern2.search(file)):\n",
    "        rel_lib_name = 'Python Advanced Assignment'\n",
    "        #print(\"advanced assignment match - file name : {}\".format(file))\n",
    "        if ('Python Advanced Assignment' in os.listdir(python_asnmt_lib)):\n",
    "            os.mkdir(os.path.join(python_asnmt_lib, rel_lib_name, file.split('.doc')[0]))\n",
    "            shutil.move(os.path.join(download_lib, file), os.path.join(python_asnmt_lib, rel_lib_name, file.split('.doc')[0]))\n",
    "        else:\n",
    "            os.mkdir(os.path.join(python_asnmt_lib, 'Python Advanced Assignment'))\n",
    "            os.mkdir(os.path.join(python_asnmt_lib, rel_lib_name, file.split('.doc')[0]))\n",
    "            shutil.move(os.path.join(download_lib, file), os.path.join(python_asnmt_lib, rel_lib_name, file.split('.doc')[0]))\n",
    "        \n",
    "\n",
    "    if bool(pattern3.search(file)):\n",
    "        rel_lib_name = 'Python Programming Basic Assignment'\n",
    "        #print(\"programming basic assignment match - file name : {}\".format(file))\n",
    "        if ('Python Programming Basic Assignment' in os.listdir(python_asnmt_lib)):\n",
    "            os.mkdir(os.path.join(python_asnmt_lib, rel_lib_name, file.split('.doc')[0]))\n",
    "            shutil.move(os.path.join(download_lib, file), os.path.join(python_asnmt_lib, rel_lib_name, file.split('.doc')[0]))\n",
    "        else:\n",
    "            os.mkdir(os.path.join(python_asnmt_lib, 'Python Programming Basic Assignment'))\n",
    "            os.mkdir(os.path.join(python_asnmt_lib, rel_lib_name, file.split('.doc')[0]))\n",
    "            shutil.move(os.path.join(download_lib, file), os.path.join(python_asnmt_lib, rel_lib_name, file.split('.doc')[0]))\n",
    "        \n",
    "    \n",
    "    if bool(pattern4.search(file)):\n",
    "        rel_lib_name = 'Python Programming Advanced Assignment'\n",
    "        #print(\"programming advanced assignment match - file name : {}\".format(file))\n",
    "        if ('Python Programming Advanced Assignment' in os.listdir(python_asnmt_lib)):\n",
    "            os.mkdir(os.path.join(python_asnmt_lib, rel_lib_name, file.split('.doc')[0]))\n",
    "            shutil.move(os.path.join(download_lib, file), os.path.join(python_asnmt_lib, rel_lib_name, file.split('.doc')[0]))\n",
    "        else:\n",
    "            os.mkdir(os.path.join(python_asnmt_lib, 'Python Programming Advanced Assignment'))\n",
    "            os.mkdir(os.path.join(python_asnmt_lib, rel_lib_name, file.split('.doc')[0]))\n",
    "            shutil.move(os.path.join(download_lib, file), os.path.join(python_asnmt_lib, rel_lib_name, file.split('.doc')[0]))\n",
    "        "
   ]
  }
 ],
 "metadata": {
  "kernelspec": {
   "display_name": "Python 3",
   "language": "python",
   "name": "python3"
  },
  "language_info": {
   "codemirror_mode": {
    "name": "ipython",
    "version": 3
   },
   "file_extension": ".py",
   "mimetype": "text/x-python",
   "name": "python",
   "nbconvert_exporter": "python",
   "pygments_lexer": "ipython3",
   "version": "3.8.5"
  }
 },
 "nbformat": 4,
 "nbformat_minor": 4
}
