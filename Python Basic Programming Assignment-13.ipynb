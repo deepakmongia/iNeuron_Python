{
 "cells": [
  {
   "cell_type": "markdown",
   "metadata": {},
   "source": [
    "# Python Basic Programming Assignment-13"
   ]
  },
  {
   "cell_type": "code",
   "execution_count": 1,
   "metadata": {},
   "outputs": [],
   "source": [
    "import logging as lg\n",
    "import re"
   ]
  },
  {
   "cell_type": "code",
   "execution_count": 2,
   "metadata": {},
   "outputs": [],
   "source": [
    "lg.basicConfig(filename = \"logfile.log\", level = lg.INFO, format = '%(asctime)s %(name)s %(message)s')"
   ]
  },
  {
   "cell_type": "markdown",
   "metadata": {},
   "source": [
    "### 1. Write a program that calculates and prints the value according to the given formula:\n",
    "Q = Square root of [(2 * C * D)/H]\n",
    "\n",
    "Following are the fixed values of C and H:\n",
    "\n",
    "C is 50. H is 30.\n",
    "\n",
    "D is the variable whose values should be input to your program in a comma-separated sequence.\n",
    "\n",
    "Example\n",
    "\n",
    "Let us assume the following comma separated input sequence is given to the program:\n",
    "\n",
    "100,150,180\n",
    "\n",
    "The output of the program should be:\n",
    "\n",
    "18,22,24"
   ]
  },
  {
   "cell_type": "code",
   "execution_count": 3,
   "metadata": {},
   "outputs": [],
   "source": [
    "import math"
   ]
  },
  {
   "cell_type": "code",
   "execution_count": 4,
   "metadata": {},
   "outputs": [],
   "source": [
    "def formula_calc(sequence):\n",
    "    \"\"\"\n",
    "    This function takes a sequence as input and returns the sequence with the given formula in the question.\n",
    "    \"\"\"\n",
    "    try:\n",
    "        lg.info(\"Input from the user : {}\".format(sequence))\n",
    "        \n",
    "        result_list = []\n",
    "        \n",
    "        for i in sequence:\n",
    "            temp = int(math.sqrt((2 * 50 * i) / 30))\n",
    "            result_list.append(temp)\n",
    "        \n",
    "        if type(sequence) == list:\n",
    "            return result_list\n",
    "        if type(sequence) == tuple:\n",
    "            return tuple(result_list)\n",
    "        \n",
    "    except Exception as e:\n",
    "        print(\"An error occured. Please check logs.\")\n",
    "        lg.error(\"error has occured\")\n",
    "        lg.exception(str(e))"
   ]
  },
  {
   "cell_type": "code",
   "execution_count": 5,
   "metadata": {},
   "outputs": [],
   "source": [
    "formula_calc([100, 150, 180])"
   ]
  },
  {
   "cell_type": "code",
   "execution_count": 6,
   "metadata": {},
   "outputs": [],
   "source": [
    "formula_calc((100, 150, 300, 180))"
   ]
  },
  {
   "cell_type": "markdown",
   "metadata": {},
   "source": [
    "### 2. Write a program which takes 2 digits, X,Y as input and generates a 2-dimensional array. The element value in the i-th row and j-th column of the array should be i*j."
   ]
  },
  {
   "cell_type": "code",
   "execution_count": 7,
   "metadata": {},
   "outputs": [],
   "source": [
    "def create_array(num_rows, num_cols):\n",
    "    \"\"\"\n",
    "    This function creates an array with num_rows and num_cols which are input to the function.\n",
    "    And then it creates the element value as i * j, where i is the row # and j is the column #.\n",
    "    \"\"\"\n",
    "\n",
    "    try:\n",
    "        lg.info(\"Input from the user num_rows : {}, num_cols : {}\".format(num_rows, num_cols))\n",
    "        \n",
    "        array = [[0 for i in range(num_cols)] for j in range(num_rows)]\n",
    "    \n",
    "        for i in range(num_rows):\n",
    "            for j in range(num_cols):\n",
    "                array[i][j] = i * j\n",
    "        \n",
    "        return array\n",
    "\n",
    "    except Exception as e:\n",
    "        print(\"An error occured. Please check logs.\")\n",
    "        lg.error(\"error has occured\")\n",
    "        lg.exception(str(e))"
   ]
  },
  {
   "cell_type": "code",
   "execution_count": 8,
   "metadata": {},
   "outputs": [],
   "source": [
    "create_array(3, 5)"
   ]
  },
  {
   "cell_type": "code",
   "execution_count": 9,
   "metadata": {},
   "outputs": [],
   "source": [
    "create_array(5.4, 5)"
   ]
  },
  {
   "cell_type": "code",
   "execution_count": 10,
   "metadata": {
    "scrolled": true
   },
   "outputs": [],
   "source": [
    "create_array([3,4], 7)"
   ]
  },
  {
   "cell_type": "markdown",
   "metadata": {},
   "source": [
    "### 3. Write a program that accepts a comma separated sequence of words as input and prints the words in a comma-separated sequence after sorting them alphabetically."
   ]
  },
  {
   "cell_type": "code",
   "execution_count": 11,
   "metadata": {},
   "outputs": [],
   "source": [
    "def sort_words_sequence(sequence):\n",
    "    \"\"\"\n",
    "    This function takes a sequence of words as input and return a sorted words sequence.\n",
    "    \"\"\"\n",
    "    try:\n",
    "        lg.info(\"Input from the user : {}\".format(sequence))\n",
    "        \n",
    "        result_list = sorted(sequence)\n",
    "        \n",
    "        if type(sequence) == tuple:\n",
    "            return tuple(result_list)\n",
    "        \n",
    "        if type(sequence) == list:\n",
    "            return result_list\n",
    "        \n",
    "    except Exception as e:\n",
    "        print(\"An error occured. Please check logs.\")\n",
    "        lg.error(\"error has occured\")\n",
    "        lg.exception(str(e))"
   ]
  },
  {
   "cell_type": "code",
   "execution_count": 12,
   "metadata": {},
   "outputs": [],
   "source": [
    "sort_words_sequence([\"without\", \"hello\", \"bag\", \"world\"])"
   ]
  },
  {
   "cell_type": "code",
   "execution_count": 13,
   "metadata": {},
   "outputs": [],
   "source": [
    "sort_words_sequence((\"without\", \"hello\", \"bag\", \"world\"))"
   ]
  },
  {
   "cell_type": "markdown",
   "metadata": {},
   "source": [
    "### 4. Write a program that accepts a sequence of whitespace separated words as input and prints the words after removing all duplicate words and sorting them alphanumerically."
   ]
  },
  {
   "cell_type": "code",
   "execution_count": 14,
   "metadata": {},
   "outputs": [],
   "source": [
    "def sort_words_whitespace(string_of_words):\n",
    "    \"\"\"\n",
    "    This function takes a string of words separated by whitespace and remove the duplicates and then\n",
    "    create a string with alphabetically sorted words after duplicates are removed.\n",
    "    \"\"\"\n",
    "    try:\n",
    "        lg.info(\"Input from the user : {}\".format(string_of_words))\n",
    "        \n",
    "        word_set = set(string_of_words.split())\n",
    "        \n",
    "        result_string = \" \".join(sorted(list(word_set)))\n",
    "        \n",
    "        return result_string\n",
    "        \n",
    "    except Exception as e:\n",
    "        print(\"An error occured. Please check logs.\")\n",
    "        lg.error(\"error has occured\")\n",
    "        lg.exception(str(e))"
   ]
  },
  {
   "cell_type": "code",
   "execution_count": 15,
   "metadata": {},
   "outputs": [],
   "source": [
    "sort_words_whitespace(\"hello world and practice makes perfect and hello world again\")"
   ]
  },
  {
   "cell_type": "code",
   "execution_count": 16,
   "metadata": {},
   "outputs": [],
   "source": [
    "sort_words_whitespace(123)"
   ]
  },
  {
   "cell_type": "code",
   "execution_count": 17,
   "metadata": {},
   "outputs": [],
   "source": [
    "sort_words_whitespace([\"ab\", \"bc\"])"
   ]
  },
  {
   "cell_type": "markdown",
   "metadata": {},
   "source": [
    "### 5. Write a program that accepts a sentence and calculate the number of letters and digits."
   ]
  },
  {
   "cell_type": "code",
   "execution_count": 18,
   "metadata": {},
   "outputs": [],
   "source": [
    "def count_letters_digits(string_inp):\n",
    "    \"\"\"\n",
    "    This function takes as input a string, and returns number of alphabets and digits in the string.\n",
    "    \"\"\"\n",
    "    \n",
    "    try:\n",
    "        lg.info(\"Input from the user : {}\".format(string_inp))\n",
    "        num_alpha = 0\n",
    "        num_digits = 0\n",
    "        for i in string_inp:\n",
    "            if i.isalpha():\n",
    "                num_alpha += 1\n",
    "            elif i.isnumeric():\n",
    "                num_digits += 1\n",
    "\n",
    "        return num_alpha, num_digits\n",
    "    except Exception as e:\n",
    "        print(\"An error occured. Please check logs.\")\n",
    "        lg.error(\"error has occured\")\n",
    "        lg.exception(str(e))\n",
    "        return 0, 0"
   ]
  },
  {
   "cell_type": "code",
   "execution_count": 19,
   "metadata": {},
   "outputs": [],
   "source": [
    "num1, num2 = count_letters_digits(\"hello world! 123\")"
   ]
  },
  {
   "cell_type": "code",
   "execution_count": 20,
   "metadata": {},
   "outputs": [],
   "source": [
    "num1"
   ]
  },
  {
   "cell_type": "code",
   "execution_count": 21,
   "metadata": {},
   "outputs": [],
   "source": [
    "num2"
   ]
  },
  {
   "cell_type": "code",
   "execution_count": 22,
   "metadata": {},
   "outputs": [],
   "source": [
    "num1, num2 = count_letters_digits([12,3,4])"
   ]
  },
  {
   "cell_type": "markdown",
   "metadata": {},
   "source": [
    "### 6. A website requires the users to input username and password to register. Write a program to check the validity of password input by users."
   ]
  },
  {
   "cell_type": "code",
   "execution_count": 23,
   "metadata": {},
   "outputs": [],
   "source": [
    "def check_passwords(list_of_passwords):\n",
    "    \"\"\"\n",
    "    This function takes as input a list of passwords and check the validity of passwords.\n",
    "    It returns a list of valid passwords from the input list.\n",
    "    \"\"\"\n",
    "    valid_passwords = []\n",
    "    \n",
    "    try:\n",
    "\n",
    "        for pw in list_of_passwords:\n",
    "            if len(pw) >= 6 and len(pw) <= 12:\n",
    "                flag_at_least_one_lower = bool(re.search(\"[a-z]\", pw))\n",
    "\n",
    "                if not flag_at_least_one_lower:\n",
    "                    continue\n",
    "\n",
    "                flag_at_least_one_upper = bool(re.search(\"[A-Z]\", pw))\n",
    "\n",
    "                if not flag_at_least_one_upper:\n",
    "                    continue\n",
    "\n",
    "                flag_at_least_one_number = bool(re.search(\"\\d\", pw))\n",
    "\n",
    "                if not flag_at_least_one_number:\n",
    "                    continue\n",
    "\n",
    "                flag_at_least_one_special = bool(re.search(\"[$#@]\", pw))\n",
    "\n",
    "                if not flag_at_least_one_special:\n",
    "                    continue\n",
    "\n",
    "                valid_passwords.append(pw)\n",
    "                \n",
    "    except Exception as e:\n",
    "        print(\"An error occured. Please check logs.\")\n",
    "        lg.error(\"error has occured\")\n",
    "        lg.exception(str(e))\n",
    "\n",
    "    return valid_passwords"
   ]
  },
  {
   "cell_type": "code",
   "execution_count": 24,
   "metadata": {},
   "outputs": [],
   "source": [
    "check_passwords([\"ABd1234@1\", \"a\", \"F1#\", \"2w3E*\", \"2We3345\"])"
   ]
  },
  {
   "cell_type": "code",
   "execution_count": 25,
   "metadata": {},
   "outputs": [],
   "source": [
    "check_passwords([\"ABd1234@1\", \"a\", \"F1#\", \"2w3E*\", \"2We3345\", \"Ad#@$1D\", \"Ad#@$1Dgg2618\", \"Ad#@$1Dgg261\"])"
   ]
  },
  {
   "cell_type": "code",
   "execution_count": 26,
   "metadata": {},
   "outputs": [],
   "source": [
    "check_passwords([\"ab\", [\"abc\", 12]])"
   ]
  }
 ],
 "metadata": {
  "kernelspec": {
   "display_name": "Python 3",
   "language": "python",
   "name": "python3"
  },
  "language_info": {
   "codemirror_mode": {
    "name": "ipython",
    "version": 3
   },
   "file_extension": ".py",
   "mimetype": "text/x-python",
   "name": "python",
   "nbconvert_exporter": "python",
   "pygments_lexer": "ipython3",
   "version": "3.8.5"
  }
 },
 "nbformat": 4,
 "nbformat_minor": 4
}
