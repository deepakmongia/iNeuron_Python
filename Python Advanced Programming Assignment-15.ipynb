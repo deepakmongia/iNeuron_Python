{
 "cells": [
  {
   "cell_type": "markdown",
   "metadata": {},
   "source": [
    "# Python Advanced Programming Assignment-15"
   ]
  },
  {
   "cell_type": "code",
   "execution_count": 1,
   "metadata": {},
   "outputs": [],
   "source": [
    "import logging as lg\n",
    "import re"
   ]
  },
  {
   "cell_type": "code",
   "execution_count": 2,
   "metadata": {},
   "outputs": [],
   "source": [
    "lg.basicConfig(filename = \"logfile.log\", level = lg.INFO, format = '%(asctime)s %(name)s %(message)s')"
   ]
  },
  {
   "cell_type": "markdown",
   "metadata": {},
   "source": [
    "### 1. Write a function that returns True if a given name can generate an array of words."
   ]
  },
  {
   "cell_type": "code",
   "execution_count": 3,
   "metadata": {},
   "outputs": [],
   "source": [
    "def anagram(input_string, array_of_words):\n",
    "    \n",
    "    \"\"\"\n",
    "    This function takes 2 inputs - a name or a string, and a list of strings.\n",
    "    The function then checks if each of the words in the array can be formed from\n",
    "    the given input name or string. If all words in the array of words can be formed\n",
    "    with the input string, then the function returns True, else it returns False.\n",
    "    \"\"\"\n",
    "    \n",
    "    try:\n",
    "        \n",
    "        lg.info(\"Input by user, input_string: {}, array_of_words: {}\".format(input_string, array_of_words))\n",
    "        \n",
    "        input_string_all = sorted(input_string.lower().replace(\" \", \"\"))\n",
    "        \n",
    "        for i in array_of_words:\n",
    "            #print(i)\n",
    "            #print(sorted(i.lower().replace(\" \", \"\")))\n",
    "            temp_i = sorted(i.lower().replace(\" \", \"\"))\n",
    "\n",
    "            temp_lookup = [j for j in input_string_all]\n",
    "\n",
    "            for j in temp_i:\n",
    "                if j in temp_lookup:\n",
    "                    temp_lookup.remove(j)\n",
    "                else:\n",
    "                    return False\n",
    "            else:\n",
    "            \n",
    "                continue\n",
    "                \n",
    "        else:\n",
    "            return True\n",
    "        \n",
    "    except Exception as e:\n",
    "        print(\"Check logs for error\")\n",
    "        lg.error(\"Error occured here\")\n",
    "        lg.exception(e)"
   ]
  },
  {
   "cell_type": "code",
   "execution_count": 4,
   "metadata": {},
   "outputs": [
    {
     "data": {
      "text/plain": [
       "True"
      ]
     },
     "execution_count": 4,
     "metadata": {},
     "output_type": "execute_result"
    }
   ],
   "source": [
    "anagram(\"Justin Bieber\", [\"injures\", \"ebb\", \"it\"])"
   ]
  },
  {
   "cell_type": "code",
   "execution_count": 5,
   "metadata": {},
   "outputs": [
    {
     "data": {
      "text/plain": [
       "True"
      ]
     },
     "execution_count": 5,
     "metadata": {},
     "output_type": "execute_result"
    }
   ],
   "source": [
    "anagram(\"Natalie Portman\", [\"ornamental\", \"pita\"])"
   ]
  },
  {
   "cell_type": "code",
   "execution_count": 6,
   "metadata": {},
   "outputs": [
    {
     "data": {
      "text/plain": [
       "True"
      ]
     },
     "execution_count": 6,
     "metadata": {},
     "output_type": "execute_result"
    }
   ],
   "source": [
    "anagram(\"Chris Pratt\", [\"chirps\", \"rat\"])"
   ]
  },
  {
   "cell_type": "code",
   "execution_count": 7,
   "metadata": {
    "scrolled": true
   },
   "outputs": [
    {
     "data": {
      "text/plain": [
       "False"
      ]
     },
     "execution_count": 7,
     "metadata": {},
     "output_type": "execute_result"
    }
   ],
   "source": [
    "anagram(\"Jeff Goldblum\", [\"jog\", \"meld\", \"bluffs\"])"
   ]
  },
  {
   "cell_type": "markdown",
   "metadata": {},
   "source": [
    "### 2. Given an array of users, each defined by an object with the following properties: name, score, reputation create a function that sorts the array to form the correct leaderboard.\n",
    "\n",
    "### The leaderboard takes into consideration the score of each user of course, but an emphasis is put on their reputation in the community, so to get the trueScore, you should add the reputation multiplied by 2 to the score.\n",
    "\n",
    "### Once you know the trueScore of each user, sort the array according to it in descending order."
   ]
  },
  {
   "cell_type": "code",
   "execution_count": 8,
   "metadata": {},
   "outputs": [],
   "source": [
    "def leaderboards(input_array):\n",
    "    \n",
    "    try:\n",
    "        \n",
    "        lg.info(\"Input by user : {}\".format(input_array))\n",
    "        \n",
    "        array_list = []\n",
    "        \n",
    "        for i in input_array:\n",
    "            #print(i)\n",
    "            i_true_score = i['score'] + 2 * i['reputation']\n",
    "            array_list.append([i_true_score, i])\n",
    "        \n",
    "        array_list = sorted(array_list, reverse=True)\n",
    "        \n",
    "        for i in range(len(array_list)):\n",
    "            array_list[i].pop(0)\n",
    "        \n",
    "        return array_list\n",
    "        \n",
    "    except Exception as e:\n",
    "        print(\"Check logs for error\")\n",
    "        lg.error(\"Error occured here\")\n",
    "        lg.exception(e)"
   ]
  },
  {
   "cell_type": "code",
   "execution_count": 9,
   "metadata": {},
   "outputs": [
    {
     "data": {
      "text/plain": [
       "[[{'name': 'c', 'score': 115, 'reputation': 30}],\n",
       " [{'name': 'b', 'score': 90, 'reputation': 40}],\n",
       " [{'name': 'a', 'score': 100, 'reputation': 20}]]"
      ]
     },
     "execution_count": 9,
     "metadata": {},
     "output_type": "execute_result"
    }
   ],
   "source": [
    "leaderboards([\n",
    "  { \"name\": \"a\", \"score\": 100, \"reputation\": 20 },\n",
    "  { \"name\": \"b\", \"score\": 90, \"reputation\": 40 },\n",
    "  { \"name\": \"c\", \"score\": 115, \"reputation\": 30 },\n",
    "]) "
   ]
  },
  {
   "cell_type": "code",
   "execution_count": 10,
   "metadata": {
    "scrolled": true
   },
   "outputs": [
    {
     "data": {
      "text/plain": [
       "[[{'name': 'c', 'score': 115, 'reputation': 30}],\n",
       " [{'name': 'b', 'score': 90, 'reputation': 40}],\n",
       " [{'name': 'd', 'score': 140, 'reputation': 10}],\n",
       " [{'name': 'a', 'score': 100, 'reputation': 20}]]"
      ]
     },
     "execution_count": 10,
     "metadata": {},
     "output_type": "execute_result"
    }
   ],
   "source": [
    "leaderboards([\n",
    "  { \"name\": \"a\", \"score\": 100, \"reputation\": 20 },\n",
    "  { \"name\": \"b\", \"score\": 90, \"reputation\": 40 },\n",
    "  { \"name\": \"c\", \"score\": 115, \"reputation\": 30 },\n",
    "  { \"name\": \"d\", \"score\": 140, \"reputation\": 10 },\n",
    "]) "
   ]
  },
  {
   "cell_type": "markdown",
   "metadata": {},
   "source": [
    "### 3. Create a function that, given a phrase and a number of letters guessed, returns a string with hyphens - for every letter of the phrase not guessed, and each letter guessed in place."
   ]
  },
  {
   "cell_type": "code",
   "execution_count": 11,
   "metadata": {},
   "outputs": [],
   "source": [
    "def hangman(input_phrase, letters_guessed):\n",
    "    \n",
    "    try:\n",
    "        \n",
    "        lg.info(\"Input by user, input_phrase: {}, letters_guessed: {}\".format(input_phrase, letters_guessed))\n",
    "        \n",
    "        guessed_list = ['-' for i in range(len(input_phrase))]\n",
    "        \n",
    "        input_phrase_list = list(input_phrase.lower())\n",
    "        \n",
    "        for i in letters_guessed:\n",
    "            if i in input_phrase_list:\n",
    "                indices_list = [j for j, char in enumerate(input_phrase_list) if char == i]\n",
    "                for j in indices_list:\n",
    "                    guessed_list[j] = i\n",
    "        \n",
    "        if not guessed_list[0] == '-':\n",
    "            guessed_list[0] = guessed_list[0].upper()\n",
    "        \n",
    "        return ''.join(guessed_list)\n",
    "        \n",
    "    except Exception as e:\n",
    "        print(\"Check logs for error\")\n",
    "        lg.error(\"Error occured here\")\n",
    "        lg.exception(e)"
   ]
  },
  {
   "cell_type": "code",
   "execution_count": 12,
   "metadata": {},
   "outputs": [
    {
     "data": {
      "text/plain": [
       "'-e---o--e-'"
      ]
     },
     "execution_count": 12,
     "metadata": {},
     "output_type": "execute_result"
    }
   ],
   "source": [
    "hangman(\"helicopter\", [\"o\", \"e\", \"s\"])"
   ]
  },
  {
   "cell_type": "code",
   "execution_count": 13,
   "metadata": {},
   "outputs": [
    {
     "data": {
      "text/plain": [
       "'Tree'"
      ]
     },
     "execution_count": 13,
     "metadata": {},
     "output_type": "execute_result"
    }
   ],
   "source": [
    "hangman(\"tree\", [\"r\", \"t\", \"e\"])"
   ]
  },
  {
   "cell_type": "code",
   "execution_count": 14,
   "metadata": {},
   "outputs": [
    {
     "data": {
      "text/plain": [
       "'P----n-r----'"
      ]
     },
     "execution_count": 14,
     "metadata": {},
     "output_type": "execute_result"
    }
   ],
   "source": [
    "hangman(\"Python rules\", [\"a\", \"n\", \"p\", \"r\", \"z\"]) "
   ]
  },
  {
   "cell_type": "code",
   "execution_count": 15,
   "metadata": {
    "scrolled": true
   },
   "outputs": [
    {
     "data": {
      "text/plain": [
       "'-e---a--e-y--a----y---y-'"
      ]
     },
     "execution_count": 15,
     "metadata": {},
     "output_type": "execute_result"
    }
   ],
   "source": [
    "hangman(\"He's a very naughty boy!\", [\"e\", \"a\", \"y\"]) "
   ]
  },
  {
   "cell_type": "markdown",
   "metadata": {},
   "source": [
    "### 4. The Collatz sequence is as follows:\n",
    "\n",
    "  - Start with some given integer n.\n",
    "  - If it is even, the next number will be n divided by 2.\n",
    "  - If it is odd, multiply it by 3 and add 1 to make the next number.\n",
    "  - The sequence stops when it reaches 1.\n",
    "\n",
    "### According to the Collatz conjecture, it will always reach 1. If that's true, you can construct a finite sequence following the aforementioned method for any given integer.\n",
    "\n",
    "### Write a function that takes in an integer n and returns the highest integer in the corresponding Collatz sequence."
   ]
  },
  {
   "cell_type": "code",
   "execution_count": 16,
   "metadata": {},
   "outputs": [],
   "source": [
    "def max_collatz(input_num):\n",
    "    \n",
    "    try:\n",
    "        \n",
    "        lg.info(\"Input by user : {}\".format(input_num))\n",
    "        \n",
    "        collatz_seq_list = []\n",
    "        \n",
    "        temp_num = input_num\n",
    "        \n",
    "        collatz_seq_list.append(temp_num)\n",
    "        \n",
    "        while not temp_num == 1:\n",
    "            if temp_num % 2 == 0:\n",
    "                temp_num = int(temp_num / 2)\n",
    "            else:\n",
    "                temp_num = (temp_num * 3) + 1\n",
    "\n",
    "            collatz_seq_list.append(temp_num)\n",
    "        \n",
    "        \n",
    "        return max(collatz_seq_list)\n",
    "        \n",
    "    except Exception as e:\n",
    "        print(\"Check logs for error\")\n",
    "        lg.error(\"Error occured here\")\n",
    "        lg.exception(e)"
   ]
  },
  {
   "cell_type": "code",
   "execution_count": 17,
   "metadata": {},
   "outputs": [
    {
     "data": {
      "text/plain": [
       "16"
      ]
     },
     "execution_count": 17,
     "metadata": {},
     "output_type": "execute_result"
    }
   ],
   "source": [
    "max_collatz(10)"
   ]
  },
  {
   "cell_type": "code",
   "execution_count": 18,
   "metadata": {},
   "outputs": [
    {
     "data": {
      "text/plain": [
       "32"
      ]
     },
     "execution_count": 18,
     "metadata": {},
     "output_type": "execute_result"
    }
   ],
   "source": [
    "max_collatz(32)"
   ]
  },
  {
   "cell_type": "code",
   "execution_count": 19,
   "metadata": {},
   "outputs": [
    {
     "data": {
      "text/plain": [
       "256"
      ]
     },
     "execution_count": 19,
     "metadata": {},
     "output_type": "execute_result"
    }
   ],
   "source": [
    "max_collatz(85)"
   ]
  },
  {
   "cell_type": "markdown",
   "metadata": {},
   "source": [
    "### 5. Write a function that sorts a list of integers by their digit length in descending order, then settles ties by sorting numbers with the same digit length in ascending order."
   ]
  },
  {
   "cell_type": "code",
   "execution_count": 20,
   "metadata": {},
   "outputs": [],
   "source": [
    "def digit_sort(input_list_of_num):\n",
    "    \n",
    "    try:\n",
    "        \n",
    "        lg.info(\"Input by user : {}\".format(input_list_of_num))\n",
    "        \n",
    "        temp_list1 = []\n",
    "        \n",
    "        for i in input_list_of_num:\n",
    "            #print(i)\n",
    "            temp_list1.append([len(str(i)), i])\n",
    "        \n",
    "        temp_list1 = sorted(temp_list1, reverse=True)\n",
    "        \n",
    "        temp_list2 = [ [] for i in range(temp_list1[0][0]) ]\n",
    "        \n",
    "        j = 0\n",
    "        temp_val = temp_list1[0][0]\n",
    "        for i in temp_list1:\n",
    "            #print(i)\n",
    "            if i[0] == temp_val:\n",
    "                #print(j)\n",
    "                temp_list2[j].append(i)\n",
    "            else:\n",
    "                j += 1\n",
    "                #print(j)\n",
    "                temp_list2[j].append(i)\n",
    "                temp_val = i[0]\n",
    "                \n",
    "        for i in range(len(temp_list2)):\n",
    "            #print(i)\n",
    "            for j in range(len(temp_list2[i])):\n",
    "                #print(j)\n",
    "                #print(temp_list2[i][j])\n",
    "                temp_list2[i][j].pop(0)\n",
    "\n",
    "            for j in range(len(temp_list2[i])):\n",
    "                temp_list2[i][j] = temp_list2[i][j][0]\n",
    "\n",
    "\n",
    "            temp_list2[i] = sorted(temp_list2[i])\n",
    "        \n",
    "        return [item for sublist in temp_list2 for item in sublist]\n",
    "        \n",
    "    except Exception as e:\n",
    "        print(\"Check logs for error\")\n",
    "        lg.error(\"Error occured here\")\n",
    "        lg.exception(e)"
   ]
  },
  {
   "cell_type": "code",
   "execution_count": 21,
   "metadata": {},
   "outputs": [
    {
     "data": {
      "text/plain": [
       "[101, 23, 77, 5, 7]"
      ]
     },
     "execution_count": 21,
     "metadata": {},
     "output_type": "execute_result"
    }
   ],
   "source": [
    "digit_sort([77, 23, 5, 7, 101])"
   ]
  },
  {
   "cell_type": "code",
   "execution_count": 22,
   "metadata": {},
   "outputs": [
    {
     "data": {
      "text/plain": [
       "[444, 563, 789, 1, 2, 5, 9]"
      ]
     },
     "execution_count": 22,
     "metadata": {},
     "output_type": "execute_result"
    }
   ],
   "source": [
    "digit_sort([1, 5, 9, 2, 789, 563, 444])"
   ]
  },
  {
   "cell_type": "code",
   "execution_count": 23,
   "metadata": {},
   "outputs": [
    {
     "data": {
      "text/plain": [
       "[53219, 3772, 564, 32, 1]"
      ]
     },
     "execution_count": 23,
     "metadata": {},
     "output_type": "execute_result"
    }
   ],
   "source": [
    "digit_sort([53219, 3772, 564, 32, 1])"
   ]
  }
 ],
 "metadata": {
  "kernelspec": {
   "display_name": "Python 3",
   "language": "python",
   "name": "python3"
  },
  "language_info": {
   "codemirror_mode": {
    "name": "ipython",
    "version": 3
   },
   "file_extension": ".py",
   "mimetype": "text/x-python",
   "name": "python",
   "nbconvert_exporter": "python",
   "pygments_lexer": "ipython3",
   "version": "3.8.5"
  }
 },
 "nbformat": 4,
 "nbformat_minor": 4
}
