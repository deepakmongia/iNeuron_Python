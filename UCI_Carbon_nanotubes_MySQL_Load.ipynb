{
 "cells": [
  {
   "cell_type": "code",
   "execution_count": 1,
   "metadata": {},
   "outputs": [],
   "source": [
    "import urllib.request\n",
    "import re\n",
    "import mysql.connector as connection"
   ]
  },
  {
   "cell_type": "code",
   "execution_count": 2,
   "metadata": {},
   "outputs": [],
   "source": [
    "url = \"http://archive.ics.uci.edu/ml/machine-learning-databases/00448/carbon_nanotubes.csv\""
   ]
  },
  {
   "cell_type": "code",
   "execution_count": 3,
   "metadata": {},
   "outputs": [],
   "source": [
    "file = urllib.request.urlopen(url)"
   ]
  },
  {
   "cell_type": "code",
   "execution_count": 4,
   "metadata": {},
   "outputs": [],
   "source": [
    "mydb = connection.connect(host=\"localhost\",user=\"root\", passwd=\"mysql123\", database = \"testdb1\", use_pure=True)"
   ]
  },
  {
   "cell_type": "code",
   "execution_count": 5,
   "metadata": {},
   "outputs": [],
   "source": [
    "i = 0\n",
    "for line in file:\n",
    "    #print(line)\n",
    "    \n",
    "    if i == 0:\n",
    "        header_columns = line.decode('utf-8')\n",
    "        #print(header_columns)\n",
    "        \n",
    "        header_cols = header_columns.split(\";\")\n",
    "        \n",
    "        for i in range(len(header_cols)):\n",
    "            header_cols[i] = header_cols[i].split(\"'\")[0]\n",
    "            \n",
    "        for i in range(len(header_cols)):\n",
    "            header_cols[i] = re.sub(\" \", \"_\", header_cols[i])\n",
    "            if re.findall(\"indice\", header_cols[i]):\n",
    "                header_cols[i] += \" int(4)\"\n",
    "            else:\n",
    "                header_cols[i] += \" varchar(20)\"\n",
    "        \n",
    "        create_query = \"create table if not exists carbon_nanotubes(\" + \"%s ,\" * len(header_cols)\n",
    "\n",
    "        create_query = re.split(\",$\", create_query)[0]\n",
    "\n",
    "        create_query += \")\"\n",
    "\n",
    "        create_query = create_query % tuple(header_cols)\n",
    "\n",
    "        cur = mydb.cursor()\n",
    "        cur.execute(create_query)\n",
    "        \n",
    "        mydb.commit()\n",
    "        \n",
    "        i += 1\n",
    "    \n",
    "    else:\n",
    "        \n",
    "        line_decode = line.decode('utf-8')\n",
    "        \n",
    "        line_elements_list = line_decode.split(\";\")\n",
    "        \n",
    "        insert_val = \"\"\n",
    "        for i in line_elements_list:\n",
    "            if i.isnumeric():\n",
    "                insert_val += i\n",
    "            else:\n",
    "                insert_val += \"'\"\n",
    "                insert_val += i\n",
    "                insert_val += \"'\"\n",
    "\n",
    "            insert_val += \", \"\n",
    "        \n",
    "        insert_val = re.split(\", $\", insert_val)[0]\n",
    "        \n",
    "        cur = mydb.cursor()\n",
    "        cur.execute(\"insert into carbon_nanotubes values ( %s )\" %(insert_val))\n",
    "\n",
    "mydb.commit()"
   ]
  },
  {
   "cell_type": "code",
   "execution_count": 6,
   "metadata": {},
   "outputs": [
    {
     "data": {
      "text/plain": [
       "[(10721,)]"
      ]
     },
     "execution_count": 6,
     "metadata": {},
     "output_type": "execute_result"
    }
   ],
   "source": [
    "cur = mydb.cursor()\n",
    "cur.execute(\"select count(*) from carbon_nanotubes\")\n",
    "cur.fetchall()"
   ]
  }
 ],
 "metadata": {
  "kernelspec": {
   "display_name": "Python 3",
   "language": "python",
   "name": "python3"
  },
  "language_info": {
   "codemirror_mode": {
    "name": "ipython",
    "version": 3
   },
   "file_extension": ".py",
   "mimetype": "text/x-python",
   "name": "python",
   "nbconvert_exporter": "python",
   "pygments_lexer": "ipython3",
   "version": "3.8.5"
  }
 },
 "nbformat": 4,
 "nbformat_minor": 4
}
