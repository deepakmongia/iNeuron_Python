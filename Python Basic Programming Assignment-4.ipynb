{
 "cells": [
  {
   "cell_type": "markdown",
   "metadata": {},
   "source": [
    "# Python Basic Programming Assignment-4"
   ]
  },
  {
   "cell_type": "markdown",
   "metadata": {},
   "source": [
    "### 1. Write a Python Program to Find the Factorial of a Number?"
   ]
  },
  {
   "cell_type": "code",
   "execution_count": 1,
   "metadata": {},
   "outputs": [],
   "source": [
    "def factorial(num):\n",
    "    factorial_val = 1\n",
    "    for i in range(1,num+1):\n",
    "        factorial_val = factorial_val * i\n",
    "    \n",
    "    return factorial_val"
   ]
  },
  {
   "cell_type": "code",
   "execution_count": 2,
   "metadata": {},
   "outputs": [
    {
     "data": {
      "text/plain": [
       "5040"
      ]
     },
     "execution_count": 2,
     "metadata": {},
     "output_type": "execute_result"
    }
   ],
   "source": [
    "factorial(7)"
   ]
  },
  {
   "cell_type": "markdown",
   "metadata": {},
   "source": [
    "### 2. Write a Python Program to Display the multiplication Table?"
   ]
  },
  {
   "cell_type": "code",
   "execution_count": 3,
   "metadata": {},
   "outputs": [],
   "source": [
    "def multiplication_table(num):\n",
    "    ar4 = [[] for i in range(num)]\n",
    "    \n",
    "    for i in range(len(ar4)):\n",
    "        for j in range(len(ar4)):\n",
    "            ar4[i].append((i+1) * (j+1))\n",
    "    \n",
    "    print('   ', end= ' ')\n",
    "    for i in range(len(ar4)):\n",
    "        print(i+1, end = ' ')\n",
    "    \n",
    "    print('\\r')\n",
    "    print('   ', end= ' ')\n",
    "    for i in range(len(ar4)):\n",
    "        print('_', end = ' ')\n",
    "    \n",
    "    print('\\r')\n",
    "    for i in range(len(ar4)):\n",
    "        print(i+1, end=' ')\n",
    "        print(\"|\", end=' ')\n",
    "        for j in ar4[i]:\n",
    "            print(j, end=\" \")\n",
    "        print()"
   ]
  },
  {
   "cell_type": "code",
   "execution_count": 4,
   "metadata": {
    "scrolled": true
   },
   "outputs": [
    {
     "name": "stdout",
     "output_type": "stream",
     "text": [
      "    1 2 3 4 5 6 7 8 9 10 11 12 \r\n",
      "    _ _ _ _ _ _ _ _ _ _ _ _ \r\n",
      "1 | 1 2 3 4 5 6 7 8 9 10 11 12 \n",
      "2 | 2 4 6 8 10 12 14 16 18 20 22 24 \n",
      "3 | 3 6 9 12 15 18 21 24 27 30 33 36 \n",
      "4 | 4 8 12 16 20 24 28 32 36 40 44 48 \n",
      "5 | 5 10 15 20 25 30 35 40 45 50 55 60 \n",
      "6 | 6 12 18 24 30 36 42 48 54 60 66 72 \n",
      "7 | 7 14 21 28 35 42 49 56 63 70 77 84 \n",
      "8 | 8 16 24 32 40 48 56 64 72 80 88 96 \n",
      "9 | 9 18 27 36 45 54 63 72 81 90 99 108 \n",
      "10 | 10 20 30 40 50 60 70 80 90 100 110 120 \n",
      "11 | 11 22 33 44 55 66 77 88 99 110 121 132 \n",
      "12 | 12 24 36 48 60 72 84 96 108 120 132 144 \n"
     ]
    }
   ],
   "source": [
    "multiplication_table(12)"
   ]
  },
  {
   "cell_type": "markdown",
   "metadata": {},
   "source": [
    "### 3. Write a Python Program to Print the Fibonacci sequence?"
   ]
  },
  {
   "cell_type": "code",
   "execution_count": 5,
   "metadata": {},
   "outputs": [],
   "source": [
    "def fibo_func(num):\n",
    "    fibo_list = []\n",
    "    if num == 0:\n",
    "        return fibo_list\n",
    "    \n",
    "    fibo_list.append(0)\n",
    "    if num == 1:\n",
    "        return fibo_list\n",
    "    \n",
    "    fibo_list.append(1)\n",
    "    if num == 2:\n",
    "        return fibo_list\n",
    "    \n",
    "    for i in range(num-2):\n",
    "        fibo_list.append(fibo_list[len(fibo_list) - 1] + fibo_list[len(fibo_list) - 2])\n",
    "    \n",
    "    return fibo_list"
   ]
  },
  {
   "cell_type": "code",
   "execution_count": 6,
   "metadata": {},
   "outputs": [
    {
     "data": {
      "text/plain": [
       "[0, 1, 1, 2, 3, 5, 8, 13, 21, 34]"
      ]
     },
     "execution_count": 6,
     "metadata": {},
     "output_type": "execute_result"
    }
   ],
   "source": [
    "fibo_func(10)"
   ]
  },
  {
   "cell_type": "markdown",
   "metadata": {},
   "source": [
    "### 4. Write a Python Program to Check Armstrong Number?"
   ]
  },
  {
   "cell_type": "code",
   "execution_count": 7,
   "metadata": {},
   "outputs": [],
   "source": [
    "def check_armstrong_num(num):\n",
    "    ''' This function is based on the assumption that an Armstrong number is the one for which the value \n",
    "    matches the sum of each digit to the power of the total number of digits\n",
    "    '''\n",
    "    if not float(num).is_integer():\n",
    "        print(\"entered number {} not an integer\".format(num))\n",
    "        return\n",
    "    \n",
    "    len_num = len(str(int(num)))\n",
    "    sum_int = 0\n",
    "    for i in range(len_num):\n",
    "        sum_int = sum_int + int(str(int(num))[i]) ** len_num\n",
    "    \n",
    "    if sum_int == num:\n",
    "        print(\"entered number {} is an Armstrong number\".format(num))\n",
    "    else:\n",
    "        print(\"entered number {} is not an Armstrong number\".format(num))"
   ]
  },
  {
   "cell_type": "code",
   "execution_count": 8,
   "metadata": {},
   "outputs": [
    {
     "name": "stdout",
     "output_type": "stream",
     "text": [
      "entered number 153.0 is an Armstrong number\n"
     ]
    }
   ],
   "source": [
    "check_armstrong_num(153.0)"
   ]
  },
  {
   "cell_type": "code",
   "execution_count": 9,
   "metadata": {},
   "outputs": [
    {
     "name": "stdout",
     "output_type": "stream",
     "text": [
      "entered number 370 is an Armstrong number\n"
     ]
    }
   ],
   "source": [
    "check_armstrong_num(370)"
   ]
  },
  {
   "cell_type": "code",
   "execution_count": 10,
   "metadata": {},
   "outputs": [
    {
     "name": "stdout",
     "output_type": "stream",
     "text": [
      "entered number 371 is an Armstrong number\n"
     ]
    }
   ],
   "source": [
    "check_armstrong_num(371)"
   ]
  },
  {
   "cell_type": "markdown",
   "metadata": {},
   "source": [
    "### 5. Write a Python Program to Find Armstrong Number in an Interval?"
   ]
  },
  {
   "cell_type": "code",
   "execution_count": 11,
   "metadata": {},
   "outputs": [],
   "source": [
    "def armstrong_in_interval(num1, num2):\n",
    "    armstrong_list = []\n",
    "    if not float(num1).is_integer() or not float(num2).is_integer():\n",
    "        print(\"at least one of the 2 entered numbers: {} and {} not an integer\".format(num1, num2))\n",
    "        return armstrong_list\n",
    "    \n",
    "    for num in range(int(num1), int(num2) + 1):\n",
    "        len_num = len(str(int(num)))\n",
    "        sum_int = 0\n",
    "        for i in range(len_num):\n",
    "            sum_int = sum_int + int(str(int(num))[i]) ** len_num\n",
    "    \n",
    "        if sum_int == num:\n",
    "            armstrong_list.append(num)\n",
    "    \n",
    "    return armstrong_list"
   ]
  },
  {
   "cell_type": "code",
   "execution_count": 12,
   "metadata": {},
   "outputs": [
    {
     "data": {
      "text/plain": [
       "[153, 370, 371, 407]"
      ]
     },
     "execution_count": 12,
     "metadata": {},
     "output_type": "execute_result"
    }
   ],
   "source": [
    "armstrong_in_interval(150, 500.0)"
   ]
  },
  {
   "cell_type": "code",
   "execution_count": 13,
   "metadata": {},
   "outputs": [
    {
     "data": {
      "text/plain": [
       "[1, 2, 3, 4, 5, 6, 7, 8, 9, 153, 370, 371, 407]"
      ]
     },
     "execution_count": 13,
     "metadata": {},
     "output_type": "execute_result"
    }
   ],
   "source": [
    "armstrong_in_interval(1,1000)"
   ]
  },
  {
   "cell_type": "markdown",
   "metadata": {},
   "source": [
    "### 6. Write a Python Program to Find the Sum of Natural Numbers?"
   ]
  },
  {
   "cell_type": "code",
   "execution_count": 14,
   "metadata": {},
   "outputs": [],
   "source": [
    "def sum_firstn_natural(num):\n",
    "    ''' Sum of first n natural numbers\n",
    "    '''\n",
    "    sum_val = 0\n",
    "    for i in range(1, num+1):\n",
    "        sum_val = sum_val + i\n",
    "    \n",
    "    return sum_val"
   ]
  },
  {
   "cell_type": "code",
   "execution_count": 15,
   "metadata": {},
   "outputs": [
    {
     "data": {
      "text/plain": [
       "10"
      ]
     },
     "execution_count": 15,
     "metadata": {},
     "output_type": "execute_result"
    }
   ],
   "source": [
    "sum_firstn_natural(4)"
   ]
  },
  {
   "cell_type": "code",
   "execution_count": 16,
   "metadata": {},
   "outputs": [
    {
     "data": {
      "text/plain": [
       "28"
      ]
     },
     "execution_count": 16,
     "metadata": {},
     "output_type": "execute_result"
    }
   ],
   "source": [
    "sum_firstn_natural(7)"
   ]
  }
 ],
 "metadata": {
  "kernelspec": {
   "display_name": "Python 3",
   "language": "python",
   "name": "python3"
  },
  "language_info": {
   "codemirror_mode": {
    "name": "ipython",
    "version": 3
   },
   "file_extension": ".py",
   "mimetype": "text/x-python",
   "name": "python",
   "nbconvert_exporter": "python",
   "pygments_lexer": "ipython3",
   "version": "3.8.5"
  }
 },
 "nbformat": 4,
 "nbformat_minor": 4
}
