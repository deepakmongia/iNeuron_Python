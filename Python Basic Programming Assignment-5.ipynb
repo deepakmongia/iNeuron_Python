{
 "cells": [
  {
   "cell_type": "markdown",
   "metadata": {},
   "source": [
    "# Python Basic Programming Assignment-5"
   ]
  },
  {
   "cell_type": "markdown",
   "metadata": {},
   "source": [
    "### 1. Write a Python Program to Find LCM?"
   ]
  },
  {
   "cell_type": "code",
   "execution_count": 1,
   "metadata": {},
   "outputs": [],
   "source": [
    "from collections import Counter"
   ]
  },
  {
   "cell_type": "code",
   "execution_count": 2,
   "metadata": {},
   "outputs": [],
   "source": [
    "def prime_factors(num):\n",
    "    prime_fact = []\n",
    "    num_calc = num\n",
    "    for i in range(2, int(num_calc/2) + 1):\n",
    "        if num_calc % i == 0:\n",
    "            prime_fact.append(i)\n",
    "            num_calc = num_calc / i\n",
    "            if num_calc == 1:\n",
    "                break\n",
    "            same_fact = True\n",
    "            while same_fact == True:\n",
    "                if num_calc % i == 0:\n",
    "                    prime_fact.append(i)\n",
    "                    num_calc = num_calc / i\n",
    "                else:\n",
    "                    same_fact = False\n",
    "    \n",
    "    return prime_fact"
   ]
  },
  {
   "cell_type": "code",
   "execution_count": 3,
   "metadata": {},
   "outputs": [],
   "source": [
    "def lcm_calc(num1, num2):\n",
    "    prime_num1 = prime_factors(num1)\n",
    "    prime_num2 = prime_factors(num2)\n",
    "    \n",
    "    l1 = list((Counter(prime_num1) & Counter(prime_num2)).elements())\n",
    "    l2 = list((Counter(prime_num1) - Counter(prime_num2)).elements())\n",
    "    l3 = list((Counter(prime_num2) - Counter(prime_num1)).elements())\n",
    "    \n",
    "    l_final = l1 + l2 + l3\n",
    "    \n",
    "    lcm = 1\n",
    "    for i in range(len(l_final)):\n",
    "        lcm = lcm * l_final[i]\n",
    "    \n",
    "    return lcm"
   ]
  },
  {
   "cell_type": "code",
   "execution_count": 4,
   "metadata": {},
   "outputs": [],
   "source": [
    "print(lcm_calc(8,12))"
   ]
  },
  {
   "cell_type": "code",
   "execution_count": 5,
   "metadata": {},
   "outputs": [],
   "source": [
    "print(lcm_calc(10,8))"
   ]
  },
  {
   "cell_type": "code",
   "execution_count": 6,
   "metadata": {},
   "outputs": [],
   "source": [
    "print(lcm_calc(8,10))"
   ]
  },
  {
   "cell_type": "markdown",
   "metadata": {},
   "source": [
    "### 2. Write a Python Program to Find HCF?"
   ]
  },
  {
   "cell_type": "markdown",
   "metadata": {},
   "source": [
    "Enhancing and using the LCM function defined in problem 1 - to also give the HCF."
   ]
  },
  {
   "cell_type": "code",
   "execution_count": 7,
   "metadata": {},
   "outputs": [],
   "source": [
    "def lcm_hcf_calc(num1, num2):\n",
    "    prime_num1 = prime_factors(num1)\n",
    "    prime_num2 = prime_factors(num2)\n",
    "    \n",
    "    l1 = list((Counter(prime_num1) & Counter(prime_num2)).elements())\n",
    "    l2 = list((Counter(prime_num1) - Counter(prime_num2)).elements())\n",
    "    l3 = list((Counter(prime_num2) - Counter(prime_num1)).elements())\n",
    "    \n",
    "    l_final = l1 + l2 + l3\n",
    "    \n",
    "    lcm = 1\n",
    "    for i in range(len(l_final)):\n",
    "        lcm = lcm * l_final[i]\n",
    "    \n",
    "    hcf = 1\n",
    "    for i in range(len(l1)):\n",
    "        hcf = hcf * l1[i]\n",
    "    \n",
    "    return lcm, hcf"
   ]
  },
  {
   "cell_type": "code",
   "execution_count": 8,
   "metadata": {},
   "outputs": [],
   "source": [
    "print(lcm_hcf_calc(8,12))"
   ]
  },
  {
   "cell_type": "markdown",
   "metadata": {},
   "source": [
    "Here the second variable returned in the HCF or the Highest Common Factor."
   ]
  },
  {
   "cell_type": "code",
   "execution_count": 9,
   "metadata": {},
   "outputs": [],
   "source": [
    "print(lcm_hcf_calc(10,8))"
   ]
  },
  {
   "cell_type": "code",
   "execution_count": 10,
   "metadata": {},
   "outputs": [],
   "source": [
    "print(lcm_hcf_calc(8,10))"
   ]
  },
  {
   "cell_type": "markdown",
   "metadata": {},
   "source": [
    "### 3. Write a Python Program to Convert Decimal to Binary, Octal and Hexadecimal?"
   ]
  },
  {
   "cell_type": "markdown",
   "metadata": {},
   "source": [
    "#### Decimal to Binary"
   ]
  },
  {
   "cell_type": "code",
   "execution_count": 11,
   "metadata": {},
   "outputs": [],
   "source": [
    "binary_lookup_dict = {i:2**i for i in range(20)}"
   ]
  },
  {
   "cell_type": "code",
   "execution_count": 12,
   "metadata": {},
   "outputs": [],
   "source": [
    "def binary_convert_from_dec(num):\n",
    "    binary_list = []\n",
    "    num_iter = num\n",
    "    for i in sorted(list(binary_lookup_dict.keys()), reverse=True):\n",
    "        if num_iter > binary_lookup_dict[i]:\n",
    "            binary_list.append(1)\n",
    "            num_iter = num_iter - binary_lookup_dict[i]\n",
    "        elif num_iter < binary_lookup_dict[i]:\n",
    "            binary_list.append(0)\n",
    "        else:\n",
    "            binary_list.append(1)\n",
    "            num_iter = num_iter - binary_lookup_dict[i]\n",
    "    \n",
    "    return binary_list"
   ]
  },
  {
   "cell_type": "code",
   "execution_count": 13,
   "metadata": {},
   "outputs": [],
   "source": [
    "binary_convert_from_dec(75)"
   ]
  },
  {
   "cell_type": "markdown",
   "metadata": {},
   "source": [
    "#### Decimal to Hexadecimal"
   ]
  },
  {
   "cell_type": "code",
   "execution_count": 14,
   "metadata": {},
   "outputs": [],
   "source": [
    "hex_lookup = {0:'0', 1:'1', 2:'2', 3:'3', 4:'4', 5:'5', 6:'6', 7:'7', 8:'8', 9:'9', 10:'A', 11:'B',\n",
    "             12:'C', 13:'D', 14:'E', 15:'F'}"
   ]
  },
  {
   "cell_type": "code",
   "execution_count": 15,
   "metadata": {},
   "outputs": [],
   "source": [
    "def hex_convert_from_dec(num):\n",
    "    num_iter = num\n",
    "    hex_list = []\n",
    "    while num_iter > 0:\n",
    "        hex_byte = num_iter % 16\n",
    "        hex_byte_val = hex_lookup[hex_byte]\n",
    "        hex_list.append(hex_byte_val)\n",
    "        num_iter = int(num_iter / 16)\n",
    "    \n",
    "    hex_list.reverse()\n",
    "    \n",
    "    return(hex_list)"
   ]
  },
  {
   "cell_type": "code",
   "execution_count": 16,
   "metadata": {},
   "outputs": [],
   "source": [
    "hex_convert_from_dec(697)"
   ]
  },
  {
   "cell_type": "markdown",
   "metadata": {},
   "source": [
    "#### Decimal to Octal"
   ]
  },
  {
   "cell_type": "code",
   "execution_count": 17,
   "metadata": {},
   "outputs": [],
   "source": [
    "def octal_convert_from_dec(num):\n",
    "    num_iter = num\n",
    "    oct_list = []\n",
    "    while num_iter > 0:\n",
    "        oct_byte = num_iter % 8\n",
    "        oct_list.append(oct_byte)\n",
    "        num_iter = int(num_iter / 8)\n",
    "    \n",
    "    oct_list.reverse()\n",
    "    \n",
    "    return(oct_list)"
   ]
  },
  {
   "cell_type": "code",
   "execution_count": 18,
   "metadata": {},
   "outputs": [],
   "source": [
    "octal_convert_from_dec(394)"
   ]
  },
  {
   "cell_type": "markdown",
   "metadata": {},
   "source": [
    "### 4. Write a Python Program To Find ASCII value of a character?"
   ]
  },
  {
   "cell_type": "markdown",
   "metadata": {},
   "source": [
    "#### Answer:\n",
    "ord() function is available to convert a single character to a decimal ASCII value."
   ]
  },
  {
   "cell_type": "code",
   "execution_count": 19,
   "metadata": {},
   "outputs": [],
   "source": [
    "ord(\"T\")"
   ]
  },
  {
   "cell_type": "markdown",
   "metadata": {},
   "source": [
    "### 5. Write a Python Program to Make a Simple Calculator with 4 basic mathematical operations?"
   ]
  },
  {
   "cell_type": "code",
   "execution_count": 20,
   "metadata": {},
   "outputs": [],
   "source": [
    "def basic_calculator(num1, num2, oper):\n",
    "    if oper == '+':\n",
    "        return num1 + num2\n",
    "    elif oper == '-':\n",
    "        return num1 - num2\n",
    "    elif oper == '/':\n",
    "        return num1 / num2\n",
    "    elif oper == '*':\n",
    "        return num1 * num2\n",
    "    else:\n",
    "        print(\"operator entered not from the list. Allowed values are only : '+ - / *'\")"
   ]
  },
  {
   "cell_type": "code",
   "execution_count": 21,
   "metadata": {},
   "outputs": [],
   "source": [
    "basic_calculator(5,4,'+')"
   ]
  },
  {
   "cell_type": "code",
   "execution_count": 22,
   "metadata": {},
   "outputs": [],
   "source": [
    "basic_calculator(5,3,'-')"
   ]
  },
  {
   "cell_type": "code",
   "execution_count": 23,
   "metadata": {},
   "outputs": [
    {
     "data": {
      "text/plain": [
       "3.0"
      ]
     },
     "execution_count": 23,
     "metadata": {},
     "output_type": "execute_result"
    }
   ],
   "source": [
    "basic_calculator(6,2,'/')"
   ]
  },
  {
   "cell_type": "code",
   "execution_count": 24,
   "metadata": {},
   "outputs": [
    {
     "data": {
      "text/plain": [
       "30"
      ]
     },
     "execution_count": 24,
     "metadata": {},
     "output_type": "execute_result"
    }
   ],
   "source": [
    "basic_calculator(6,5,'*')"
   ]
  },
  {
   "cell_type": "code",
   "execution_count": 25,
   "metadata": {},
   "outputs": [
    {
     "name": "stdout",
     "output_type": "stream",
     "text": [
      "operator entered not from the list. Allowed values are only : '+ - / *'\n"
     ]
    }
   ],
   "source": [
    "basic_calculator(10,9,'%')"
   ]
  }
 ],
 "metadata": {
  "kernelspec": {
   "display_name": "Python 3",
   "language": "python",
   "name": "python3"
  },
  "language_info": {
   "codemirror_mode": {
    "name": "ipython",
    "version": 3
   },
   "file_extension": ".py",
   "mimetype": "text/x-python",
   "name": "python",
   "nbconvert_exporter": "python",
   "pygments_lexer": "ipython3",
   "version": "3.8.5"
  }
 },
 "nbformat": 4,
 "nbformat_minor": 4
}
