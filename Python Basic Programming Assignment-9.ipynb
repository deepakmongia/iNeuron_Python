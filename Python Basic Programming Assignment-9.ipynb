{
 "cells": [
  {
   "cell_type": "markdown",
   "metadata": {},
   "source": [
    "# Python Basic Programming Assignment-9"
   ]
  },
  {
   "cell_type": "markdown",
   "metadata": {},
   "source": [
    "### 1. Write a Python program to check if the given number is a Disarium Number?"
   ]
  },
  {
   "cell_type": "code",
   "execution_count": 1,
   "metadata": {},
   "outputs": [],
   "source": [
    "import logging as lg"
   ]
  },
  {
   "cell_type": "code",
   "execution_count": 2,
   "metadata": {},
   "outputs": [],
   "source": [
    "lg.basicConfig(filename = \"logfile.log\", level = lg.INFO, format = '%(asctime)s %(name)s %(message)s')"
   ]
  },
  {
   "cell_type": "code",
   "execution_count": 3,
   "metadata": {},
   "outputs": [],
   "source": [
    "def check_disarium(num):\n",
    "    \"\"\"\n",
    "    A Disarium number is a number defined by the following process: \n",
    "    Sum of its digits powered with their respective position is equal \n",
    "    to the original number. Some other DISARIUM are 89, 175, 518 etc\n",
    "    \"\"\"\n",
    "    try:\n",
    "        #lg.info(\"Input from the user : {}\".format(num))\n",
    "        \n",
    "        if not int(num) == num:\n",
    "            lg.exception(\"Input is a float /decimal number\")\n",
    "            return False\n",
    "        \n",
    "        digit_pos = 1\n",
    "        sum_val = 0\n",
    "        \n",
    "        for digit in str(int(num)):\n",
    "            sum_val += int(digit) ** digit_pos\n",
    "            digit_pos += 1\n",
    "        \n",
    "        if sum_val == num:\n",
    "            return True\n",
    "        else:\n",
    "            return False\n",
    "    except Exception as e:\n",
    "        lg.exception(\"Input number not a numeric number\")\n",
    "        return False"
   ]
  },
  {
   "cell_type": "code",
   "execution_count": 4,
   "metadata": {},
   "outputs": [
    {
     "data": {
      "text/plain": [
       "False"
      ]
     },
     "execution_count": 4,
     "metadata": {},
     "output_type": "execute_result"
    }
   ],
   "source": [
    "check_disarium([1,2])"
   ]
  },
  {
   "cell_type": "code",
   "execution_count": 5,
   "metadata": {},
   "outputs": [
    {
     "data": {
      "text/plain": [
       "False"
      ]
     },
     "execution_count": 5,
     "metadata": {},
     "output_type": "execute_result"
    }
   ],
   "source": [
    "check_disarium(67.5)"
   ]
  },
  {
   "cell_type": "code",
   "execution_count": 6,
   "metadata": {},
   "outputs": [
    {
     "data": {
      "text/plain": [
       "True"
      ]
     },
     "execution_count": 6,
     "metadata": {},
     "output_type": "execute_result"
    }
   ],
   "source": [
    "check_disarium(89.00)"
   ]
  },
  {
   "cell_type": "code",
   "execution_count": 7,
   "metadata": {},
   "outputs": [
    {
     "data": {
      "text/plain": [
       "False"
      ]
     },
     "execution_count": 7,
     "metadata": {},
     "output_type": "execute_result"
    }
   ],
   "source": [
    "check_disarium(80)"
   ]
  },
  {
   "cell_type": "code",
   "execution_count": 8,
   "metadata": {},
   "outputs": [
    {
     "data": {
      "text/plain": [
       "True"
      ]
     },
     "execution_count": 8,
     "metadata": {},
     "output_type": "execute_result"
    }
   ],
   "source": [
    "check_disarium(135)"
   ]
  },
  {
   "cell_type": "markdown",
   "metadata": {},
   "source": [
    "### 2. Write a Python program to print all disarium numbers between 1 to 100?"
   ]
  },
  {
   "cell_type": "code",
   "execution_count": 9,
   "metadata": {},
   "outputs": [],
   "source": [
    "def print_disarium_in_range(num1, num2):\n",
    "    try:\n",
    "        #if (not type(num1) == int and not type(num1) == float) or (not type(num2) == int and not type(num2) == float):\n",
    "        #    lg.exception(\"At least one input is not an integer or float\")\n",
    "        #    print(\"None\")\n",
    "        \n",
    "        for num in range(int(num1), int(num2) + 1):\n",
    "            if check_disarium(num):\n",
    "                print(num)\n",
    "    \n",
    "    except Exception as e:\n",
    "        lg.exception(\"At least one input is not an integer or float\")\n",
    "        print(\"None\")"
   ]
  },
  {
   "cell_type": "code",
   "execution_count": 10,
   "metadata": {},
   "outputs": [
    {
     "name": "stdout",
     "output_type": "stream",
     "text": [
      "1\n",
      "2\n",
      "3\n",
      "4\n",
      "5\n",
      "6\n",
      "7\n",
      "8\n",
      "9\n",
      "89\n"
     ]
    }
   ],
   "source": [
    "print_disarium_in_range(1,100)"
   ]
  },
  {
   "cell_type": "code",
   "execution_count": 11,
   "metadata": {},
   "outputs": [
    {
     "name": "stdout",
     "output_type": "stream",
     "text": [
      "1\n",
      "2\n",
      "3\n",
      "4\n",
      "5\n",
      "6\n",
      "7\n",
      "8\n",
      "9\n",
      "89\n",
      "135\n",
      "175\n"
     ]
    }
   ],
   "source": [
    "print_disarium_in_range(1,200)"
   ]
  },
  {
   "cell_type": "code",
   "execution_count": 12,
   "metadata": {},
   "outputs": [
    {
     "name": "stdout",
     "output_type": "stream",
     "text": [
      "1\n",
      "2\n",
      "3\n",
      "4\n",
      "5\n",
      "6\n",
      "7\n",
      "8\n",
      "9\n",
      "89\n",
      "135\n",
      "175\n"
     ]
    }
   ],
   "source": [
    "print_disarium_in_range(1.4,200)"
   ]
  },
  {
   "cell_type": "code",
   "execution_count": 13,
   "metadata": {},
   "outputs": [
    {
     "name": "stdout",
     "output_type": "stream",
     "text": [
      "None\n"
     ]
    }
   ],
   "source": [
    "print_disarium_in_range([3,4], 6)"
   ]
  },
  {
   "cell_type": "markdown",
   "metadata": {},
   "source": [
    "### 3. Write a Python program to check if the given number is Happy Number?"
   ]
  },
  {
   "cell_type": "code",
   "execution_count": 14,
   "metadata": {},
   "outputs": [],
   "source": [
    "import ipdb"
   ]
  },
  {
   "cell_type": "code",
   "execution_count": 15,
   "metadata": {},
   "outputs": [],
   "source": [
    "def check_happy_number(num):\n",
    "    \"\"\"\n",
    "    The happy number can be defined as a number which will yield 1 when it is \n",
    "    replaced by the sum of the square of its digits repeatedly. If this process \n",
    "    results in an endless cycle of numbers containing 4, then the number is \n",
    "    called an unhappy number.\n",
    "    \"\"\"\n",
    "    try:\n",
    "        lg.info(\"Input of the function: check_happy_number : {}\".format(num))\n",
    "        \n",
    "        #ipdb.set_trace()\n",
    "        if not int(num) == num:\n",
    "            lg.exception(\"Input not a number\")\n",
    "            return False\n",
    "        \n",
    "        num2 = num\n",
    "        while True:\n",
    "            temp = 0\n",
    "            for i in str(int(num2)):\n",
    "                temp += int(i) ** 2\n",
    "            if temp == 1:\n",
    "                return True\n",
    "            if temp == num:\n",
    "                return False\n",
    "            if temp == 4:\n",
    "                return False\n",
    "            num2 = temp\n",
    "        \n",
    "    except Exception as e:\n",
    "        print(\"An error occured. Please check logs.\")\n",
    "        lg.error(\"error has occured\")\n",
    "        lg.exception(str(e))"
   ]
  },
  {
   "cell_type": "code",
   "execution_count": 16,
   "metadata": {},
   "outputs": [
    {
     "data": {
      "text/plain": [
       "True"
      ]
     },
     "execution_count": 16,
     "metadata": {},
     "output_type": "execute_result"
    }
   ],
   "source": [
    "check_happy_number(19)"
   ]
  },
  {
   "cell_type": "code",
   "execution_count": 17,
   "metadata": {},
   "outputs": [
    {
     "data": {
      "text/plain": [
       "False"
      ]
     },
     "execution_count": 17,
     "metadata": {},
     "output_type": "execute_result"
    }
   ],
   "source": [
    "check_happy_number(20)"
   ]
  },
  {
   "cell_type": "code",
   "execution_count": 18,
   "metadata": {},
   "outputs": [
    {
     "data": {
      "text/plain": [
       "False"
      ]
     },
     "execution_count": 18,
     "metadata": {},
     "output_type": "execute_result"
    }
   ],
   "source": [
    "check_happy_number(2)"
   ]
  },
  {
   "cell_type": "markdown",
   "metadata": {},
   "source": [
    "### 4. Write a Python program to print all happy numbers between 1 and 100?"
   ]
  },
  {
   "cell_type": "code",
   "execution_count": 19,
   "metadata": {},
   "outputs": [],
   "source": [
    "def print_happy_in_range(num1, num2):\n",
    "    try:\n",
    "        #if (not type(num1) == int and not type(num1) == float) or (not type(num2) == int and not type(num2) == float):\n",
    "        #    lg.exception(\"At least one input is not an integer or float\")\n",
    "        #    print(\"None\")\n",
    "        \n",
    "        #ipdb.set_trace()\n",
    "        \n",
    "        for num in range(int(num1), int(num2) + 1):\n",
    "            \n",
    "            if check_happy_number(num):\n",
    "                print(num)\n",
    "    \n",
    "    except Exception as e:\n",
    "        lg.exception(\"At least one input is not an integer or float\")\n",
    "        print(\"None\")"
   ]
  },
  {
   "cell_type": "code",
   "execution_count": 20,
   "metadata": {},
   "outputs": [
    {
     "name": "stdout",
     "output_type": "stream",
     "text": [
      "1\n",
      "7\n",
      "10\n",
      "13\n",
      "19\n",
      "23\n",
      "28\n",
      "31\n",
      "32\n",
      "44\n",
      "49\n",
      "68\n",
      "70\n",
      "79\n",
      "82\n",
      "86\n",
      "91\n",
      "94\n",
      "97\n",
      "100\n"
     ]
    }
   ],
   "source": [
    "print_happy_in_range(1,100)"
   ]
  },
  {
   "cell_type": "markdown",
   "metadata": {},
   "source": [
    "### 5. Write a Python program to determine whether the given number is a Harshad Number?"
   ]
  },
  {
   "cell_type": "code",
   "execution_count": 21,
   "metadata": {},
   "outputs": [],
   "source": [
    "def check_harshad_number(num):\n",
    "    \"\"\"\n",
    "    A positive integer which is divisible by the sum of its digits, \n",
    "    also called a Niven number (Kennedy et al. 1980) or a multidigital number (Kaprekar 1955). \n",
    "    \"\"\"\n",
    "    try:\n",
    "        lg.info(\"Input of the function: check_harshad_number : {}\".format(num))\n",
    "        \n",
    "        #ipdb.set_trace()\n",
    "        if not int(num) == num:\n",
    "            lg.exception(\"Input not a number\")\n",
    "            return False\n",
    "        \n",
    "        if int(num) <= 0:\n",
    "            return False\n",
    "        \n",
    "        sum_of_digits = 0\n",
    "        for digit in str(int(num)):\n",
    "            sum_of_digits += int(digit)\n",
    "        \n",
    "        if num % sum_of_digits == 0:\n",
    "            return True\n",
    "        else:\n",
    "            return False\n",
    "        \n",
    "    except Exception as e:\n",
    "        print(\"An error occured. Please check logs.\")\n",
    "        lg.error(\"error has occured\")\n",
    "        lg.exception(str(e))"
   ]
  },
  {
   "cell_type": "code",
   "execution_count": 22,
   "metadata": {},
   "outputs": [
    {
     "data": {
      "text/plain": [
       "True"
      ]
     },
     "execution_count": 22,
     "metadata": {},
     "output_type": "execute_result"
    }
   ],
   "source": [
    "check_harshad_number(10)"
   ]
  },
  {
   "cell_type": "code",
   "execution_count": 23,
   "metadata": {},
   "outputs": [
    {
     "data": {
      "text/plain": [
       "False"
      ]
     },
     "execution_count": 23,
     "metadata": {},
     "output_type": "execute_result"
    }
   ],
   "source": [
    "check_harshad_number(11)"
   ]
  },
  {
   "cell_type": "code",
   "execution_count": 24,
   "metadata": {},
   "outputs": [
    {
     "data": {
      "text/plain": [
       "True"
      ]
     },
     "execution_count": 24,
     "metadata": {},
     "output_type": "execute_result"
    }
   ],
   "source": [
    "check_harshad_number(18)"
   ]
  },
  {
   "cell_type": "markdown",
   "metadata": {},
   "source": [
    "### 6. Write a Python program to print all pronic numbers between 1 and 100?"
   ]
  },
  {
   "cell_type": "code",
   "execution_count": 25,
   "metadata": {},
   "outputs": [],
   "source": [
    "def check_pronic_number(num):\n",
    "    \"\"\"\n",
    "    A figurate number of the form P_n=2T_n=n(n+1), where T_n is the nth triangular number. \n",
    "    The first few are 2, 6, 12, 20, 30, 42, 56, 72, 90, 110\n",
    "    \"\"\"\n",
    "    try:\n",
    "        lg.info(\"Input of the function: check_pronic_number : {}\".format(num))\n",
    "        \n",
    "        #ipdb.set_trace()\n",
    "        if not int(num) == num:\n",
    "            lg.exception(\"Input not a number\")\n",
    "            return False\n",
    "        \n",
    "        if int(num) <= 0:\n",
    "            return False\n",
    "        \n",
    "        num_sqrt = int(num ** 0.5)\n",
    "        if num == (num_sqrt) * (num_sqrt + 1):\n",
    "            return True\n",
    "        else:\n",
    "            return False\n",
    "        \n",
    "    except Exception as e:\n",
    "        print(\"An error occured. Please check logs.\")\n",
    "        lg.error(\"error has occured\")\n",
    "        lg.exception(str(e))"
   ]
  },
  {
   "cell_type": "code",
   "execution_count": 26,
   "metadata": {},
   "outputs": [],
   "source": [
    "def print_pronic_in_range(num1, num2):\n",
    "    \"\"\"\n",
    "    A figurate number of the form P_n=2T_n=n(n+1), where T_n is the nth triangular number. \n",
    "    The first few are 2, 6, 12, 20, 30, 42, 56, 72, 90, 110\n",
    "    \"\"\"\n",
    "    try:\n",
    "        \n",
    "        #ipdb.set_trace()\n",
    "        \n",
    "        for num in range(int(num1), int(num2) + 1):\n",
    "            \n",
    "            if check_pronic_number(num):\n",
    "                print(num)\n",
    "    \n",
    "    except Exception as e:\n",
    "        lg.exception(\"At least one input is not an integer or float\")\n",
    "        print(\"None\")"
   ]
  },
  {
   "cell_type": "code",
   "execution_count": 27,
   "metadata": {},
   "outputs": [
    {
     "name": "stdout",
     "output_type": "stream",
     "text": [
      "2\n",
      "6\n",
      "12\n",
      "20\n",
      "30\n",
      "42\n",
      "56\n",
      "72\n",
      "90\n"
     ]
    }
   ],
   "source": [
    "print_pronic_in_range(1, 100)"
   ]
  }
 ],
 "metadata": {
  "kernelspec": {
   "display_name": "Python 3",
   "language": "python",
   "name": "python3"
  },
  "language_info": {
   "codemirror_mode": {
    "name": "ipython",
    "version": 3
   },
   "file_extension": ".py",
   "mimetype": "text/x-python",
   "name": "python",
   "nbconvert_exporter": "python",
   "pygments_lexer": "ipython3",
   "version": "3.8.5"
  }
 },
 "nbformat": 4,
 "nbformat_minor": 4
}
