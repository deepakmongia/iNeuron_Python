{
 "cells": [
  {
   "cell_type": "markdown",
   "metadata": {},
   "source": [
    "# Python Basic Pogramming Assignment-8"
   ]
  },
  {
   "cell_type": "markdown",
   "metadata": {},
   "source": [
    "### 1. Write a Python Program to Add Two Matrices?"
   ]
  },
  {
   "cell_type": "code",
   "execution_count": 1,
   "metadata": {},
   "outputs": [],
   "source": [
    "def check_matrix(matrix):\n",
    "    \"\"\"\n",
    "    Check if the matrix has all its elements of same length\n",
    "    \"\"\"\n",
    "    for l in matrix:\n",
    "        if type(l) == list:\n",
    "            sec_dim = len(l)\n",
    "            break\n",
    "            \n",
    "    for l in matrix:\n",
    "        #print(l)\n",
    "        if type(l) == list:\n",
    "            if not len(l) == sec_dim:\n",
    "                print(\"Not a proper matrix, one or more of the lengths is different\")\n",
    "                return False\n",
    "\n",
    "            continue\n",
    "        else:\n",
    "            print(\"array is not a matrix, one of the elements is not a list\")\n",
    "            return False\n",
    "    else:\n",
    "        print(\"proper matrix\")\n",
    "        return True"
   ]
  },
  {
   "cell_type": "code",
   "execution_count": 2,
   "metadata": {},
   "outputs": [],
   "source": [
    "def sum_matrix(m1, m2):\n",
    "    if (not check_matrix(m1)) or (not check_matrix(m2)):\n",
    "        print(\"one or more of the matrices not a proper matrix\")\n",
    "        return \"One or more of the matrices not a proper matrix\"\n",
    "    \n",
    "    \n",
    "    if not (len(m1) == len(m2)) or not (len(m1[0]) == len(m2[0])):\n",
    "        print(\"Both matrices should be of same dimenion for addition\")\n",
    "        return \"Both matrices should be of same dimenion for addition\"\n",
    "    \n",
    "    #result_matrix = [[0] * len(m1[0])] * len(m1) - This does not work as with this all point to same element\n",
    "\n",
    "    result_matrix = [[0 for i in range(len(m1[0]))] for j in range(len(m1))]\n",
    "    for i in range(len(m1)):\n",
    "        for j in range(len(m1[0])):\n",
    "            result_matrix[i][j] = m1[i][j] + m2[i][j]\n",
    "    \n",
    "    return result_matrix"
   ]
  },
  {
   "cell_type": "code",
   "execution_count": 3,
   "metadata": {},
   "outputs": [],
   "source": [
    "sum_matrix([[12,7,3],\n",
    "    [4 ,5, 6],\n",
    "    [7 ,8,9]],\n",
    "          [[5,8,1],\n",
    "    [6,7,3],\n",
    "    [4,5,9]])"
   ]
  },
  {
   "cell_type": "code",
   "execution_count": 4,
   "metadata": {},
   "outputs": [],
   "source": [
    "sum_matrix([[12,7],\n",
    "    [4 ,5],\n",
    "    [7 ,8]],\n",
    "          [[5,8],\n",
    "    [6,7],\n",
    "    [4,5]])"
   ]
  },
  {
   "cell_type": "code",
   "execution_count": 5,
   "metadata": {},
   "outputs": [],
   "source": [
    "sum_matrix([[12,7,3],\n",
    "    [4 ,5],\n",
    "    [7 ,8,9]],\n",
    "          [[5,8,1],\n",
    "    [6,7,3],\n",
    "    [4,5,9]])"
   ]
  },
  {
   "cell_type": "code",
   "execution_count": 6,
   "metadata": {},
   "outputs": [],
   "source": [
    "sum_matrix([[12,7],\n",
    "    [4 ,5],\n",
    "    [7 ,8]],\n",
    "          [[5,8,1],\n",
    "    [6,7,3],\n",
    "    [4,5,9]])"
   ]
  },
  {
   "cell_type": "markdown",
   "metadata": {},
   "source": [
    "### 2. Write a Python Program to Multiply Two Matrices?"
   ]
  },
  {
   "cell_type": "code",
   "execution_count": 7,
   "metadata": {},
   "outputs": [],
   "source": [
    "def multiply_matrix(m1, m2):\n",
    "    \"\"\"\n",
    "    Multiply 2 matrices. The order of matrices matter.\n",
    "    For matrix multiplication, number of columns in the first matrix should match the number of rows in the second matrix\n",
    "    \"\"\"\n",
    "    if (not check_matrix(m1)) or (not check_matrix(m2)):\n",
    "        print(\"one or more of the matrices not a proper matrix\")\n",
    "        return \"One or more of the matrices not a proper matrix\"\n",
    "        \n",
    "    if not (len(m1[0]) == len(m2)):\n",
    "        print(\"For matrix multiplication, number of columns in the first matrix should match the number of rows in the second matrix. This does not match. The order of matrix also matters in multiplication\")\n",
    "    \n",
    "    #result_matrix = [[0] * len(m1[0])] * len(m1) - This does not work as with this all point to same element\n",
    "\n",
    "    result_matrix = [[0 for i in range(len(m2[0]))] for j in range(len(m1))]\n",
    "    \n",
    "    for i in range(len(m1)):\n",
    "        for j in range(len(m2[0])):\n",
    "            result_matrix[i][j] = 0 \n",
    "            #print(\"i : {}, j : {}\".format(i,j))\n",
    "            a1 = m1[i]\n",
    "            a2 = m2[0][j]\n",
    "            for k in range(len(m2)):\n",
    "                #print(\"i : {}, j : {}, k : {}, m1_element : {}, m2_element: {}\".format(i,j,k,m1[i][k], m2[k][j]))\n",
    "                result_matrix[i][j] = result_matrix[i][j] + (m1[i][k] * m2[k][j])\n",
    "            \n",
    "    \n",
    "    return result_matrix"
   ]
  },
  {
   "cell_type": "code",
   "execution_count": 8,
   "metadata": {
    "scrolled": true
   },
   "outputs": [],
   "source": [
    "multiply_matrix([[2,3],\n",
    "      [4,1],\n",
    "      [5,2]],\n",
    "               \n",
    "    [[1,3,5,7],\n",
    "      [2,4,6,8]])"
   ]
  },
  {
   "cell_type": "markdown",
   "metadata": {},
   "source": [
    "### 3. Write a Python Program to Transpose a Matrix?"
   ]
  },
  {
   "cell_type": "code",
   "execution_count": 9,
   "metadata": {},
   "outputs": [],
   "source": [
    "def transpose_matrix(m1):\n",
    "    \"\"\"\n",
    "    Transpose of a matrix\n",
    "    \"\"\"\n",
    "    if (not check_matrix(m1)):\n",
    "        print(\"Matrix not a proper matrix\")\n",
    "        return \"Matrix not a proper matrix\"\n",
    "    \n",
    "    result_matrix = [[0 for i in range(len(m1))] for j in range(len(m1[0]))]\n",
    "    \n",
    "    for i in range(len(m1)):\n",
    "        for j in range(len(m1[0])):\n",
    "            result_matrix[j][i] = m1[i][j]\n",
    "            \n",
    "    \n",
    "    return result_matrix"
   ]
  },
  {
   "cell_type": "code",
   "execution_count": 10,
   "metadata": {},
   "outputs": [],
   "source": [
    "transpose_matrix([[5,4],\n",
    "      [4,0],\n",
    "      [7,10],\n",
    "      [-1,8]])"
   ]
  },
  {
   "cell_type": "markdown",
   "metadata": {},
   "source": [
    "### 4. Write a Python Program to Sort Words in Alphabetic Order?"
   ]
  },
  {
   "cell_type": "code",
   "execution_count": 11,
   "metadata": {},
   "outputs": [],
   "source": [
    "a = ['Deepak', 'deepak', 'Vihaan', 'Mongia']"
   ]
  },
  {
   "cell_type": "code",
   "execution_count": 12,
   "metadata": {},
   "outputs": [],
   "source": [
    "a.sort()"
   ]
  },
  {
   "cell_type": "code",
   "execution_count": 13,
   "metadata": {},
   "outputs": [],
   "source": [
    "a"
   ]
  },
  {
   "cell_type": "code",
   "execution_count": 14,
   "metadata": {},
   "outputs": [],
   "source": [
    "import re"
   ]
  },
  {
   "cell_type": "code",
   "execution_count": 15,
   "metadata": {},
   "outputs": [],
   "source": [
    "def sort_words(list_of_words):\n",
    "    if not type(list_of_words) == list:\n",
    "        return \"Not a list of words input\"\n",
    "    \n",
    "    for word in list_of_words:\n",
    "        if not type(word) == str:\n",
    "            return \"One or more entries not a string\"\n",
    "        \n",
    "    for word in list_of_words:\n",
    "        if bool(re.search(r' \\w+', word)):\n",
    "            return \"One or more entries not a word and has a space\"\n",
    "    \n",
    "    list_of_words.sort()\n",
    "    \n",
    "    return list_of_words"
   ]
  },
  {
   "cell_type": "code",
   "execution_count": 16,
   "metadata": {},
   "outputs": [],
   "source": [
    "sort_words(['Deepak', 'deepak', 'Vishal', 'Mongia ', 10])"
   ]
  },
  {
   "cell_type": "code",
   "execution_count": 17,
   "metadata": {},
   "outputs": [
    {
     "data": {
      "text/plain": [
       "['Deepak', 'Mongia ', 'Vishal', 'deepak']"
      ]
     },
     "execution_count": 17,
     "metadata": {},
     "output_type": "execute_result"
    }
   ],
   "source": [
    "sort_words(['Deepak', 'deepak', 'Vishal', 'Mongia '])"
   ]
  },
  {
   "cell_type": "markdown",
   "metadata": {},
   "source": [
    "### 5. Write a Python Program to Remove Punctuation From a String?"
   ]
  },
  {
   "cell_type": "code",
   "execution_count": 18,
   "metadata": {},
   "outputs": [],
   "source": [
    "import string"
   ]
  },
  {
   "cell_type": "code",
   "execution_count": 19,
   "metadata": {},
   "outputs": [],
   "source": [
    "pattern = re.compile(\"[%s]\" % re.escape(string.punctuation))"
   ]
  },
  {
   "cell_type": "code",
   "execution_count": 20,
   "metadata": {},
   "outputs": [],
   "source": [
    "string1 = \"dee, pak\""
   ]
  },
  {
   "cell_type": "code",
   "execution_count": 21,
   "metadata": {},
   "outputs": [
    {
     "data": {
      "text/plain": [
       "'dee  pak'"
      ]
     },
     "execution_count": 21,
     "metadata": {},
     "output_type": "execute_result"
    }
   ],
   "source": [
    "pattern.sub(\" \", string1)"
   ]
  }
 ],
 "metadata": {
  "kernelspec": {
   "display_name": "Python 3",
   "language": "python",
   "name": "python3"
  },
  "language_info": {
   "codemirror_mode": {
    "name": "ipython",
    "version": 3
   },
   "file_extension": ".py",
   "mimetype": "text/x-python",
   "name": "python",
   "nbconvert_exporter": "python",
   "pygments_lexer": "ipython3",
   "version": "3.8.5"
  }
 },
 "nbformat": 4,
 "nbformat_minor": 4
}
