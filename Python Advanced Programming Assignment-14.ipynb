{
 "cells": [
  {
   "cell_type": "code",
   "execution_count": 1,
   "metadata": {},
   "outputs": [],
   "source": [
    "import logging as lg\n",
    "import re"
   ]
  },
  {
   "cell_type": "code",
   "execution_count": 2,
   "metadata": {},
   "outputs": [],
   "source": [
    "lg.basicConfig(filename = \"logfile.log\", level = lg.INFO, format = '%(asctime)s %(name)s %(message)s')"
   ]
  },
  {
   "cell_type": "markdown",
   "metadata": {},
   "source": [
    "### 1. Given a list of numbers, create a function that removes 25% from every number in the list except the smallest number, and adds the total amount removed to the smallest number."
   ]
  },
  {
   "cell_type": "code",
   "execution_count": 3,
   "metadata": {},
   "outputs": [],
   "source": [
    "def show_the_love(list_of_num):\n",
    "    \"\"\"\n",
    "    This function takes a list of numbers as input.\n",
    "    The function removes 25% from every number in the list except the smallest number, \n",
    "    and adds the total amount removed to the smallest number, and then returns the updated list.\n",
    "    \"\"\"\n",
    "    \n",
    "    try:\n",
    "        \n",
    "        lg.info(\"Input by user : {}\".format(list_of_num))\n",
    "        \n",
    "        smallest_num = min(list_of_num)\n",
    "        smallest_num_idx = list_of_num.index(smallest_num)\n",
    "        \n",
    "        sum_percent_removed = 0\n",
    "\n",
    "        for i in range(len(list_of_num)):\n",
    "            if not list_of_num[i] == smallest_num:\n",
    "                temp_remove = 0.25 * list_of_num[i]\n",
    "                list_of_num[i] = list_of_num[i] - temp_remove\n",
    "                if (int(list_of_num[i])) == list_of_num[i]:\n",
    "                    list_of_num[i] = int(list_of_num[i])\n",
    "\n",
    "                sum_percent_removed += temp_remove\n",
    "        else:\n",
    "            list_of_num[smallest_num_idx] = smallest_num + sum_percent_removed\n",
    "            if int(list_of_num[smallest_num_idx]) == list_of_num[smallest_num_idx]:\n",
    "                list_of_num[smallest_num_idx] = int(list_of_num[smallest_num_idx])\n",
    "        \n",
    "        return list_of_num\n",
    "        \n",
    "    except Exception as e:\n",
    "        print(\"Check logs for error\")\n",
    "        lg.error(\"Error occured here\")\n",
    "        lg.exception(e)\n"
   ]
  },
  {
   "cell_type": "code",
   "execution_count": 4,
   "metadata": {},
   "outputs": [],
   "source": [
    "show_the_love([4, 1, 4])"
   ]
  },
  {
   "cell_type": "code",
   "execution_count": 5,
   "metadata": {},
   "outputs": [],
   "source": [
    "show_the_love([16, 10, 8]) "
   ]
  },
  {
   "cell_type": "code",
   "execution_count": 6,
   "metadata": {},
   "outputs": [],
   "source": [
    "show_the_love([2, 100])"
   ]
  },
  {
   "cell_type": "markdown",
   "metadata": {},
   "source": [
    "### 2. Create a function that takes in two words as input and returns a list of three elements, in the following order:\n",
    "\n",
    "   1.Shared letters between two words.\n",
    "   2.Letters unique to word 1.\n",
    "   3.Letters unique to word 2.\n",
    "\n",
    "Each element should have unique letters, and have each letter be alphabetically sorted.\n"
   ]
  },
  {
   "cell_type": "code",
   "execution_count": 7,
   "metadata": {},
   "outputs": [],
   "source": [
    "def letters(word1, word2):\n",
    "    try:\n",
    "        \n",
    "        lg.info(\"Input by user, word1: {}, word2: {}\".format(word1, word2))\n",
    "        \n",
    "        shared_letters_str = ''.join(sorted(list(set(word1).intersection(set(word2)))))\n",
    "        \n",
    "        unique_to_word1_str = ''.join(sorted(list(set(word1) - set(word2))))\n",
    "        \n",
    "        unique_to_word2_str = ''.join(sorted(list(set(word2) - set(word1))))\n",
    "        \n",
    "        return [shared_letters_str, unique_to_word1_str, unique_to_word2_str]\n",
    "        \n",
    "    except Exception as e:\n",
    "        print(\"Check logs for error\")\n",
    "        lg.error(\"Error occured here\")\n",
    "        lg.exception(e)\n",
    "\n"
   ]
  },
  {
   "cell_type": "code",
   "execution_count": 8,
   "metadata": {},
   "outputs": [],
   "source": [
    "letters(\"sharp\", \"soap\") "
   ]
  },
  {
   "cell_type": "code",
   "execution_count": 9,
   "metadata": {},
   "outputs": [],
   "source": [
    "letters(\"board\", \"bored\")"
   ]
  },
  {
   "cell_type": "code",
   "execution_count": 10,
   "metadata": {},
   "outputs": [],
   "source": [
    "letters(\"happiness\", \"envelope\")"
   ]
  },
  {
   "cell_type": "code",
   "execution_count": 11,
   "metadata": {},
   "outputs": [],
   "source": [
    "letters(\"kerfuffle\", \"fluffy\")"
   ]
  },
  {
   "cell_type": "code",
   "execution_count": 12,
   "metadata": {},
   "outputs": [],
   "source": [
    "letters(\"match\", \"ham\") "
   ]
  },
  {
   "cell_type": "markdown",
   "metadata": {},
   "source": [
    "### 3. Write a function that pairs the first number in an array with the last, the second number with the second to last, etc."
   ]
  },
  {
   "cell_type": "code",
   "execution_count": 13,
   "metadata": {},
   "outputs": [],
   "source": [
    "def pairs(input_list):\n",
    "    try:\n",
    "        \n",
    "        lg.info(\"Input by user : {}\".format(input_list))\n",
    "        \n",
    "        if len(input_list) % 2 == 0:\n",
    "            range_lim = int(len(input_list)/2)\n",
    "        else:\n",
    "            range_lim = int(len(input_list)/2) + 1\n",
    "            \n",
    "        return_list = [[] for i in range(range_lim)]\n",
    "        \n",
    "        for i in range(range_lim):\n",
    "            #print(i)\n",
    "            #print(len(input_list) - i)\n",
    "            #print(input_list[i])\n",
    "            #print(input_list[len(input_list) - i - 1])\n",
    "            #print(len(input_list) - i)\n",
    "            return_list[i].append(input_list[i])\n",
    "            return_list[i].append(input_list[len(input_list) - i - 1])\n",
    "        \n",
    "        return return_list\n",
    "        \n",
    "    except Exception as e:\n",
    "        print(\"Check logs for error\")\n",
    "        lg.error(\"Error occured here\")\n",
    "        lg.exception(e)\n",
    "\n"
   ]
  },
  {
   "cell_type": "code",
   "execution_count": 14,
   "metadata": {},
   "outputs": [],
   "source": [
    "pairs([1, 2, 3, 4, 5, 6, 7])"
   ]
  },
  {
   "cell_type": "code",
   "execution_count": 15,
   "metadata": {},
   "outputs": [],
   "source": [
    "pairs([1, 2, 3, 4, 5, 6])"
   ]
  },
  {
   "cell_type": "code",
   "execution_count": 16,
   "metadata": {},
   "outputs": [],
   "source": [
    "pairs([5, 9, 8, 1, 2]) "
   ]
  },
  {
   "cell_type": "code",
   "execution_count": 17,
   "metadata": {},
   "outputs": [],
   "source": [
    "pairs([])"
   ]
  },
  {
   "cell_type": "markdown",
   "metadata": {},
   "source": [
    "### 4. Write a function that adds two numbers. The catch, however, is that the numbers will be strings."
   ]
  },
  {
   "cell_type": "code",
   "execution_count": 18,
   "metadata": {},
   "outputs": [],
   "source": [
    "def add_str_nums(num1, num2):\n",
    "    try:\n",
    "        \n",
    "        lg.info(\"Input by user, num1: {}, num2: {}\".format(num1, num2))\n",
    "        \n",
    "        if num1.isnumeric() and num2.isnumeric():\n",
    "            \n",
    "            return str(int(num1) + int(num2))\n",
    "        \n",
    "        elif num1.isnumeric() and num2 == \"\":\n",
    "            \n",
    "            return str(int(num1))\n",
    "        \n",
    "        elif num1 == \"\" and num2.isnumeric():\n",
    "            \n",
    "            return str(int(num2))\n",
    "        \n",
    "        else:\n",
    "            \n",
    "            print(\"at least one input is not numeric\")\n",
    "            return \"-1\"\n",
    "        \n",
    "    except Exception as e:\n",
    "        print(\"Check logs for error\")\n",
    "        lg.error(\"Error occured here\")\n",
    "        lg.exception(e)\n",
    "\n",
    "\n"
   ]
  },
  {
   "cell_type": "code",
   "execution_count": 19,
   "metadata": {},
   "outputs": [],
   "source": [
    "add_str_nums(\"4\", \"5\")"
   ]
  },
  {
   "cell_type": "code",
   "execution_count": 20,
   "metadata": {},
   "outputs": [],
   "source": [
    "add_str_nums(\"abcdefg\", \"3\")"
   ]
  },
  {
   "cell_type": "code",
   "execution_count": 21,
   "metadata": {},
   "outputs": [],
   "source": [
    "add_str_nums(\"1\", \"\")"
   ]
  },
  {
   "cell_type": "code",
   "execution_count": 22,
   "metadata": {},
   "outputs": [],
   "source": [
    "add_str_nums(\"1874682736267235927359283579235789257\", \"32652983572985729\")"
   ]
  },
  {
   "cell_type": "markdown",
   "metadata": {},
   "source": [
    "### 5. lPaeesh le pemu mnxit ehess rtnisg! Oh, sorry, that was supposed to say: Please help me unmix these strings!\n",
    "\n",
    "### Somehow my strings have all become mixed up; every pair of characters has been swapped. Help me undo this so I can understand my strings again.\n"
   ]
  }
 ],
 "metadata": {
  "kernelspec": {
   "display_name": "Python 3",
   "language": "python",
   "name": "python3"
  },
  "language_info": {
   "codemirror_mode": {
    "name": "ipython",
    "version": 3
   },
   "file_extension": ".py",
   "mimetype": "text/x-python",
   "name": "python",
   "nbconvert_exporter": "python",
   "pygments_lexer": "ipython3",
   "version": "3.8.5"
  }
 },
 "nbformat": 4,
 "nbformat_minor": 4
}
