{
 "cells": [
  {
   "cell_type": "markdown",
   "metadata": {},
   "source": [
    "# Python Basic Programming Assignment-12"
   ]
  },
  {
   "cell_type": "code",
   "execution_count": 1,
   "metadata": {},
   "outputs": [],
   "source": [
    "import logging as lg\n",
    "import re"
   ]
  },
  {
   "cell_type": "code",
   "execution_count": 2,
   "metadata": {},
   "outputs": [],
   "source": [
    "lg.basicConfig(filename = \"logfile.log\", level = lg.INFO, format = '%(asctime)s %(name)s %(message)s')"
   ]
  },
  {
   "cell_type": "markdown",
   "metadata": {},
   "source": [
    "### 1. Write a Python program to Extract Unique values dictionary values?"
   ]
  },
  {
   "cell_type": "code",
   "execution_count": 3,
   "metadata": {},
   "outputs": [],
   "source": [
    "def unique_values_dict(dict_inp):\n",
    "    \"\"\"\n",
    "    This function takes a dictionary as an input, and returns unique values as a list.\n",
    "    \"\"\"\n",
    "    try:\n",
    "        lg.info(\"Input from the user : {}\".format(dict_inp))\n",
    "        \n",
    "        return list(set(dict_inp.values()))\n",
    "\n",
    "    except Exception as e:\n",
    "        print(\"An error occured. Please check logs.\")\n",
    "        lg.error(\"error has occured\")\n",
    "        lg.exception(str(e))"
   ]
  },
  {
   "cell_type": "code",
   "execution_count": 4,
   "metadata": {},
   "outputs": [
    {
     "data": {
      "text/plain": [
       "['Deepak', 'Full_Stack', 'Mongia']"
      ]
     },
     "execution_count": 4,
     "metadata": {},
     "output_type": "execute_result"
    }
   ],
   "source": [
    "unique_values_dict({\"first_name\": \"Deepak\", \"last_name\": \"Mongia\", \"course\": \"Full_Stack\", \"use_name\": \"Deepak\"})"
   ]
  },
  {
   "cell_type": "markdown",
   "metadata": {},
   "source": [
    "### 2. Write a Python program to find the sum of all items in a dictionary?"
   ]
  },
  {
   "cell_type": "code",
   "execution_count": 5,
   "metadata": {},
   "outputs": [],
   "source": [
    "d1 = {\"a\": 5, \"b\": 12, \"c\": \"deepak\", \"d\": [1,2], \"e\": 8}"
   ]
  },
  {
   "cell_type": "code",
   "execution_count": 6,
   "metadata": {},
   "outputs": [],
   "source": [
    "sum_val = 0\n",
    "for i in list(d1.values()):\n",
    "    if type(i) == int or type(i) == float:\n",
    "        sum_val += i"
   ]
  },
  {
   "cell_type": "code",
   "execution_count": 7,
   "metadata": {},
   "outputs": [
    {
     "data": {
      "text/plain": [
       "25"
      ]
     },
     "execution_count": 7,
     "metadata": {},
     "output_type": "execute_result"
    }
   ],
   "source": [
    "sum_val"
   ]
  },
  {
   "cell_type": "code",
   "execution_count": 8,
   "metadata": {},
   "outputs": [],
   "source": [
    "def sum_of_items_dict(dict_inp):\n",
    "    \"\"\"\n",
    "    This function takes a dictionary as an input, and returns sum of values which are integer or float.\n",
    "    This function ignores any other data type for the values.\n",
    "    \"\"\"\n",
    "    try:\n",
    "        lg.info(\"Input from the user : {}\".format(dict_inp))\n",
    "        \n",
    "        sum_val = 0\n",
    "        for i in list(dict_inp.values()):\n",
    "            if type(i) == int or type(i) == float:\n",
    "                sum_val += i\n",
    "                \n",
    "        return sum_val\n",
    "\n",
    "    except Exception as e:\n",
    "        print(\"An error occured. Please check logs.\")\n",
    "        lg.error(\"error has occured\")\n",
    "        lg.exception(str(e))"
   ]
  },
  {
   "cell_type": "code",
   "execution_count": 9,
   "metadata": {},
   "outputs": [
    {
     "data": {
      "text/plain": [
       "26"
      ]
     },
     "execution_count": 9,
     "metadata": {},
     "output_type": "execute_result"
    }
   ],
   "source": [
    "sum_of_items_dict({\"a\": 5, \"b\": 12, \"c\": \"deepak\", \"d\": [1,2], \"e\": 9})"
   ]
  },
  {
   "cell_type": "markdown",
   "metadata": {},
   "source": [
    "### 3. Write a Python program to Merging two Dictionaries?"
   ]
  },
  {
   "cell_type": "code",
   "execution_count": 10,
   "metadata": {},
   "outputs": [],
   "source": [
    "def merge_two_dict(dict_inp1, dict_inp2):\n",
    "    \"\"\"\n",
    "    This function takes 2 dictionaries as input and return one merged dictionary.\n",
    "    \"\"\"\n",
    "    try:\n",
    "        lg.info(\"Input from the user dict1 : {}, dict2 : {}\".format(dict_inp1, dict_inp2))\n",
    "        \n",
    "        result_dict = {**d1, **d2}\n",
    "        \n",
    "        return result_dict\n",
    "\n",
    "    except Exception as e:\n",
    "        print(\"An error occured. Please check logs.\")\n",
    "        lg.error(\"error has occured\")\n",
    "        lg.exception(str(e))"
   ]
  },
  {
   "cell_type": "code",
   "execution_count": 11,
   "metadata": {
    "scrolled": true
   },
   "outputs": [
    {
     "name": "stdout",
     "output_type": "stream",
     "text": [
      "An error occured. Please check logs.\n"
     ]
    }
   ],
   "source": [
    "merge_two_dict({\"a\": 5, \"b\": 12, \"c\": \"deepak\", \"d\": [1,2], \"e\": 8},\n",
    "               {\"first_name\": \"Deepak\", \"last_name\": \"Mongia\", \"course\": \"Full_Stack\", \"use_name\": \"Deepak\"})"
   ]
  },
  {
   "cell_type": "markdown",
   "metadata": {},
   "source": [
    "### 4. Write a Python program to convert key-values list to flat dictionary?"
   ]
  },
  {
   "cell_type": "code",
   "execution_count": 12,
   "metadata": {},
   "outputs": [],
   "source": [
    "def flatten_dict(dict_inp, key_val = \" \"):\n",
    "    \"\"\"\n",
    "    This function takes a dictionary as an input, and flattens it.\n",
    "    Which means if there are any dictionary item as a dictionary, which means a nested dictionary,\n",
    "    then it breaks it down further to individual elements in the main dictionary. \n",
    "    \"\"\"\n",
    "    dict_copy = dict_inp.copy()\n",
    "    \n",
    "    for i in dict_inp.items():\n",
    "        if type(i[1]) == dict:\n",
    "            temp = flatten_dict(i[1])\n",
    "            #print(temp)\n",
    "            for j in temp.items():\n",
    "                dict_copy[str(i[0] + '_' + str(j[0]))] = j[1]\n",
    "                \n",
    "            del dict_copy[i[0]]\n",
    "        else:\n",
    "            continue\n",
    "    \n",
    "    return dict_copy"
   ]
  },
  {
   "cell_type": "code",
   "execution_count": 13,
   "metadata": {},
   "outputs": [],
   "source": [
    "d1 = {'a': 5, 'b': {'d': 2, 'e': 1}, 'c': 'deepak', 'd': [1, 2], 'e': 8}"
   ]
  },
  {
   "cell_type": "code",
   "execution_count": 14,
   "metadata": {
    "scrolled": false
   },
   "outputs": [
    {
     "data": {
      "text/plain": [
       "{'a': 5, 'c': 'deepak', 'd': [1, 2], 'e': 8, 'b_d': 2, 'b_e': 1}"
      ]
     },
     "execution_count": 14,
     "metadata": {},
     "output_type": "execute_result"
    }
   ],
   "source": [
    "flatten_dict(d1)"
   ]
  },
  {
   "cell_type": "code",
   "execution_count": 15,
   "metadata": {},
   "outputs": [],
   "source": [
    "d2 = {\"a\": 5, \"b\": {\"d\": 2, \"e\": 1}, \"c\": \"deepak\", \"d\": [1,2], \"e\": 8, \"f\" : {\"a\": {'i1': 12, \"i2\": 24}, \"b\": (10,9,8)}}"
   ]
  },
  {
   "cell_type": "code",
   "execution_count": 16,
   "metadata": {},
   "outputs": [
    {
     "data": {
      "text/plain": [
       "{'a': 5,\n",
       " 'b': {'d': 2, 'e': 1},\n",
       " 'c': 'deepak',\n",
       " 'd': [1, 2],\n",
       " 'e': 8,\n",
       " 'f': {'a': {'i1': 12, 'i2': 24}, 'b': (10, 9, 8)}}"
      ]
     },
     "execution_count": 16,
     "metadata": {},
     "output_type": "execute_result"
    }
   ],
   "source": [
    "d2"
   ]
  },
  {
   "cell_type": "code",
   "execution_count": 17,
   "metadata": {},
   "outputs": [
    {
     "data": {
      "text/plain": [
       "{'a': 5,\n",
       " 'c': 'deepak',\n",
       " 'd': [1, 2],\n",
       " 'e': 8,\n",
       " 'b_d': 2,\n",
       " 'b_e': 1,\n",
       " 'f_b': (10, 9, 8),\n",
       " 'f_a_i1': 12,\n",
       " 'f_a_i2': 24}"
      ]
     },
     "execution_count": 17,
     "metadata": {},
     "output_type": "execute_result"
    }
   ],
   "source": [
    "flatten_dict(d2)"
   ]
  },
  {
   "cell_type": "markdown",
   "metadata": {},
   "source": [
    "### 5. Write a Python program to insertion at the beginning in OrderedDict?"
   ]
  },
  {
   "cell_type": "code",
   "execution_count": 18,
   "metadata": {},
   "outputs": [],
   "source": [
    "from collections import OrderedDict"
   ]
  },
  {
   "cell_type": "code",
   "execution_count": 19,
   "metadata": {},
   "outputs": [],
   "source": [
    "od1 = OrderedDict([(\"one\", 1), (\"two\", 2), (\"three\", 3)])"
   ]
  },
  {
   "cell_type": "code",
   "execution_count": 20,
   "metadata": {},
   "outputs": [],
   "source": [
    "od1.update({\"zero\": 0})"
   ]
  },
  {
   "cell_type": "code",
   "execution_count": 21,
   "metadata": {},
   "outputs": [
    {
     "data": {
      "text/plain": [
       "OrderedDict([('one', 1), ('two', 2), ('three', 3), ('zero', 0)])"
      ]
     },
     "execution_count": 21,
     "metadata": {},
     "output_type": "execute_result"
    }
   ],
   "source": [
    "od1"
   ]
  },
  {
   "cell_type": "code",
   "execution_count": 22,
   "metadata": {},
   "outputs": [],
   "source": [
    "od1.move_to_end(\"zero\", last=False)"
   ]
  },
  {
   "cell_type": "code",
   "execution_count": 23,
   "metadata": {},
   "outputs": [
    {
     "data": {
      "text/plain": [
       "OrderedDict([('zero', 0), ('one', 1), ('two', 2), ('three', 3)])"
      ]
     },
     "execution_count": 23,
     "metadata": {},
     "output_type": "execute_result"
    }
   ],
   "source": [
    "od1"
   ]
  },
  {
   "cell_type": "markdown",
   "metadata": {},
   "source": [
    "### 6. Write a Python program to check order of character in string using OrderedDict()?"
   ]
  },
  {
   "cell_type": "markdown",
   "metadata": {},
   "source": [
    "#### Not clear what the question is"
   ]
  },
  {
   "cell_type": "markdown",
   "metadata": {},
   "source": [
    "### 7. Write a Python program to sort Python Dictionaries by Key or Value?"
   ]
  },
  {
   "cell_type": "code",
   "execution_count": 24,
   "metadata": {},
   "outputs": [],
   "source": [
    "def sort_dict(dict_inp, sort_by = \"key\"):\n",
    "    \"\"\"\n",
    "    This function takes a dictionary as an input, and sorts it by:\n",
    "    key - if the second parameter sort_by = \"key\"\n",
    "    value - if the second parameter sort_by = \"val\"\n",
    "    No other value accepted for sort_by parameter.\n",
    "    \"\"\"\n",
    "    try:\n",
    "        lg.info(\"Input from the user dictionary: {}, sort_by : {}\".format(dict_inp, sort_by))\n",
    "        \n",
    "        if not sort_by == \"key\" and not sort_by == \"val\":\n",
    "            lg.error(\"Input parameter sort_by not one of the 2 allowed values: 'key' or 'val'\")\n",
    "            return dict_inp\n",
    "        \n",
    "        result_dict = dict()\n",
    "        \n",
    "        if sort_by == \"key\":\n",
    "            \n",
    "            for key in sorted(list(dict_inp.keys())):\n",
    "                result_dict[key] = dict_inp[key]\n",
    "        \n",
    "        if sort_by == \"val\":\n",
    "            for val in sorted(list(dict_inp.values())):\n",
    "                for i in dict_inp.items():\n",
    "                    if i[1] == val:\n",
    "                        result_dict[i[0]] = val\n",
    "\n",
    "        return result_dict\n",
    "\n",
    "    except Exception as e:\n",
    "        print(\"An error occured. Please check logs.\")\n",
    "        lg.error(\"error has occured\")\n",
    "        lg.exception(str(e))"
   ]
  },
  {
   "cell_type": "code",
   "execution_count": 25,
   "metadata": {},
   "outputs": [
    {
     "data": {
      "text/plain": [
       "{'a': 'A', 'b': 'B', 'd': 'D', 'e': 'E'}"
      ]
     },
     "execution_count": 25,
     "metadata": {},
     "output_type": "execute_result"
    }
   ],
   "source": [
    "sort_dict({\"d\" : \"D\", \"e\" : \"E\", \"a\" : \"A\", \"b\" : \"B\"},\n",
    "         \"key\")"
   ]
  },
  {
   "cell_type": "code",
   "execution_count": 26,
   "metadata": {},
   "outputs": [
    {
     "data": {
      "text/plain": [
       "{'b': 'A', 'f': 'A', 'a': 'B', 'e': 'D', 'd': 'E'}"
      ]
     },
     "execution_count": 26,
     "metadata": {},
     "output_type": "execute_result"
    }
   ],
   "source": [
    "sort_dict({\"d\" : \"E\", \"e\" : \"D\", \"a\" : \"B\", \"b\" : \"A\", \"f\" : \"A\"},\n",
    "         \"val\")"
   ]
  },
  {
   "cell_type": "code",
   "execution_count": 27,
   "metadata": {},
   "outputs": [
    {
     "data": {
      "text/plain": [
       "{'d': 'E', 'e': 'D', 'a': 'B', 'b': 'A', 'f': 'A'}"
      ]
     },
     "execution_count": 27,
     "metadata": {},
     "output_type": "execute_result"
    }
   ],
   "source": [
    "sort_dict({\"d\" : \"E\", \"e\" : \"D\", \"a\" : \"B\", \"b\" : \"A\", \"f\" : \"A\"},\n",
    "         \"none\")"
   ]
  }
 ],
 "metadata": {
  "kernelspec": {
   "display_name": "Python 3",
   "language": "python",
   "name": "python3"
  },
  "language_info": {
   "codemirror_mode": {
    "name": "ipython",
    "version": 3
   },
   "file_extension": ".py",
   "mimetype": "text/x-python",
   "name": "python",
   "nbconvert_exporter": "python",
   "pygments_lexer": "ipython3",
   "version": "3.8.5"
  }
 },
 "nbformat": 4,
 "nbformat_minor": 4
}
