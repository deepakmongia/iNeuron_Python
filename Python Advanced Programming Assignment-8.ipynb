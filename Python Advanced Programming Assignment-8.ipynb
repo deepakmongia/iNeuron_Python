{
 "cells": [
  {
   "cell_type": "markdown",
   "metadata": {},
   "source": [
    "# Python Advanced Programming Assignment-8"
   ]
  },
  {
   "cell_type": "code",
   "execution_count": 1,
   "metadata": {},
   "outputs": [],
   "source": [
    "import logging as lg\n",
    "import re"
   ]
  },
  {
   "cell_type": "code",
   "execution_count": 2,
   "metadata": {},
   "outputs": [],
   "source": [
    "lg.basicConfig(filename = \"logfile.log\", level = lg.INFO, format = '%(asctime)s %(name)s %(message)s')"
   ]
  },
  {
   "cell_type": "markdown",
   "metadata": {},
   "source": [
    "### 1. Given a sentence as txt, return True if any two adjacent words have this property: One word ends with a vowel, while the word immediately after begins with a vowel (a e i o u)."
   ]
  },
  {
   "cell_type": "code",
   "execution_count": 3,
   "metadata": {},
   "outputs": [],
   "source": [
    "def vowel_links(sentence_string):\n",
    "    \"\"\"\n",
    "    This function takes a sentence string as input and returns\n",
    "    True if any two adjacent words have this property: One word ends with a vowel, \n",
    "    while the word immediately after begins with a vowel (a e i o u).\n",
    "    \"\"\"\n",
    "    \n",
    "    try:\n",
    "        lg.info(\"Input by user: {}\".format(sentence_string))\n",
    "        \n",
    "        return bool(re.findall(r\"[aioue] +[aioue]\", sentence_string))\n",
    "        \n",
    "    except Exception as e:\n",
    "        print(\"Check logs for error\")\n",
    "        lg.error(\"Error occured here\")\n",
    "        lg.exception(e)"
   ]
  },
  {
   "cell_type": "code",
   "execution_count": 4,
   "metadata": {},
   "outputs": [],
   "source": [
    "vowel_links(\"a very large appliance\")"
   ]
  },
  {
   "cell_type": "code",
   "execution_count": 5,
   "metadata": {},
   "outputs": [
    {
     "data": {
      "text/plain": [
       "True"
      ]
     },
     "execution_count": 5,
     "metadata": {},
     "output_type": "execute_result"
    }
   ],
   "source": [
    "vowel_links(\"go to edabit\")"
   ]
  },
  {
   "cell_type": "code",
   "execution_count": 6,
   "metadata": {},
   "outputs": [
    {
     "data": {
      "text/plain": [
       "False"
      ]
     },
     "execution_count": 6,
     "metadata": {},
     "output_type": "execute_result"
    }
   ],
   "source": [
    "vowel_links(\"an open fire\")"
   ]
  },
  {
   "cell_type": "code",
   "execution_count": 7,
   "metadata": {},
   "outputs": [
    {
     "data": {
      "text/plain": [
       "False"
      ]
     },
     "execution_count": 7,
     "metadata": {},
     "output_type": "execute_result"
    }
   ],
   "source": [
    "vowel_links(\"a sudden applause\")"
   ]
  },
  {
   "cell_type": "markdown",
   "metadata": {},
   "source": [
    "### 2. You are given three inputs: a string, one letter, and a second letter.\n",
    "\n",
    "### Write a function that returns True if every instance of the first letter occurs before every instance of the second letter."
   ]
  },
  {
   "cell_type": "code",
   "execution_count": 8,
   "metadata": {},
   "outputs": [],
   "source": [
    "def first_before_second(string_inp, first_letter, second_letter):\n",
    "    \"\"\"\n",
    "    This function has three inputs: a string, one letter, and a second letter.\n",
    "    The function returns True if every instance of the first letter occurs before \n",
    "    every instance of the second letter. Else it returns False.\n",
    "    \"\"\"\n",
    "    \n",
    "    try:\n",
    "        lg.info(\"Input by user, string_input: {}, first_letter: {}, second_letter: {}\".format(string_inp,\n",
    "                                                                                             first_letter,\n",
    "                                                                                             second_letter))\n",
    "        \n",
    "        \n",
    "        last_instance_of_first_letter_idx = len(string_inp) - string_inp[::-1].index(first_letter) - 1\n",
    "        \n",
    "        if last_instance_of_first_letter_idx < string_inp.index(second_letter):\n",
    "            return True\n",
    "        else:\n",
    "            return False\n",
    "        \n",
    "    except Exception as e:\n",
    "        print(\"Check logs for error\")\n",
    "        lg.error(\"Error occured here\")\n",
    "        lg.exception(e)"
   ]
  },
  {
   "cell_type": "code",
   "execution_count": 9,
   "metadata": {},
   "outputs": [
    {
     "data": {
      "text/plain": [
       "True"
      ]
     },
     "execution_count": 9,
     "metadata": {},
     "output_type": "execute_result"
    }
   ],
   "source": [
    "first_before_second(\"a rabbit jumps joyfully\", \"a\", \"j\")"
   ]
  },
  {
   "cell_type": "code",
   "execution_count": 10,
   "metadata": {},
   "outputs": [
    {
     "data": {
      "text/plain": [
       "True"
      ]
     },
     "execution_count": 10,
     "metadata": {},
     "output_type": "execute_result"
    }
   ],
   "source": [
    "first_before_second(\"knaves knew about waterfalls\", \"k\", \"w\") "
   ]
  },
  {
   "cell_type": "code",
   "execution_count": 11,
   "metadata": {},
   "outputs": [
    {
     "data": {
      "text/plain": [
       "False"
      ]
     },
     "execution_count": 11,
     "metadata": {},
     "output_type": "execute_result"
    }
   ],
   "source": [
    "first_before_second(\"happy birthday\", \"a\", \"y\")"
   ]
  },
  {
   "cell_type": "code",
   "execution_count": 12,
   "metadata": {},
   "outputs": [
    {
     "data": {
      "text/plain": [
       "False"
      ]
     },
     "execution_count": 12,
     "metadata": {},
     "output_type": "execute_result"
    }
   ],
   "source": [
    "first_before_second(\"precarious kangaroos\", \"k\", \"a\")"
   ]
  },
  {
   "cell_type": "markdown",
   "metadata": {},
   "source": [
    "### 3. Create a function that returns the characters from a list or string r on odd or even positions, depending on the specifier s. The specifier will be \"odd\" for items on odd positions (1, 3, 5, ...) and \"even\" for items on even positions (2, 4, 6, ...)."
   ]
  },
  {
   "cell_type": "code",
   "execution_count": 13,
   "metadata": {},
   "outputs": [],
   "source": [
    "def char_at_pos(input_list_or_string, specifier):\n",
    "    \"\"\"\n",
    "    \"\"\"\n",
    "    \n",
    "    try:\n",
    "        lg.info(\"Input by user, input_list_or_string: {}, specifier: {}\".format(input_list_or_string, specifier))\n",
    "        \n",
    "        if not (specifier == \"odd\" or specifier == \"even\"):\n",
    "            print(\"specifier can only be odd or even in lower case\")\n",
    "            return None\n",
    "        \n",
    "        if specifier == \"odd\":\n",
    "            \n",
    "            if type(input_list_or_string) == list:\n",
    "                \n",
    "                return_list = [input_list_or_string[i] for i in range(len(input_list_or_string)) if (i+1) % 2 == 1]\n",
    "                \n",
    "                return return_list\n",
    "            \n",
    "            else:\n",
    "                \n",
    "                return_string = \"\".join([input_list_or_string[i] for i in range(len(input_list_or_string)) \n",
    "                                         if (i+1) % 2 == 1])\n",
    "                \n",
    "                return return_string\n",
    "            \n",
    "        else:\n",
    "            \n",
    "            if type(input_list_or_string) == list:\n",
    "                \n",
    "                return_list = [input_list_or_string[i] for i in range(len(input_list_or_string)) if (i+1) % 2 == 0]\n",
    "                \n",
    "                return return_list\n",
    "            \n",
    "            else:\n",
    "                \n",
    "                return_string = \"\".join([input_list_or_string[i] for i in range(len(input_list_or_string)) \n",
    "                                         if (i+1) % 2 == 0])\n",
    "                \n",
    "                return return_string\n",
    "        \n",
    "    except Exception as e:\n",
    "        print(\"Check logs for error\")\n",
    "        lg.error(\"Error occured here\")\n",
    "        lg.exception(e)"
   ]
  },
  {
   "cell_type": "code",
   "execution_count": 14,
   "metadata": {},
   "outputs": [
    {
     "data": {
      "text/plain": [
       "[4, 8]"
      ]
     },
     "execution_count": 14,
     "metadata": {},
     "output_type": "execute_result"
    }
   ],
   "source": [
    "char_at_pos([2, 4, 6, 8, 10], \"even\") "
   ]
  },
  {
   "cell_type": "code",
   "execution_count": 15,
   "metadata": {},
   "outputs": [
    {
     "data": {
      "text/plain": [
       "'EAI'"
      ]
     },
     "execution_count": 15,
     "metadata": {},
     "output_type": "execute_result"
    }
   ],
   "source": [
    "char_at_pos(\"EDABIT\", \"odd\") "
   ]
  },
  {
   "cell_type": "code",
   "execution_count": 16,
   "metadata": {},
   "outputs": [
    {
     "data": {
      "text/plain": [
       "['A', 'B', 'T', 'A', 'I', 'Y']"
      ]
     },
     "execution_count": 16,
     "metadata": {},
     "output_type": "execute_result"
    }
   ],
   "source": [
    "char_at_pos([\"A\", \"R\", \"B\", \"I\", \"T\", \"R\", \"A\", \"R\", \"I\", \"L\", \"Y\"], \"odd\")"
   ]
  },
  {
   "cell_type": "markdown",
   "metadata": {},
   "source": [
    "### 4. Write a function that returns the greatest common divisor of all list elements. If the greatest common divisor is 1, return 1."
   ]
  },
  {
   "cell_type": "code",
   "execution_count": 17,
   "metadata": {},
   "outputs": [],
   "source": [
    "def is_prime(num):\n",
    "    if num == 2:\n",
    "        return True\n",
    "    \n",
    "    for i in range(2, int(num / 2) + 1):\n",
    "        if num % i == 0:\n",
    "            return False\n",
    "    else:\n",
    "        return True"
   ]
  },
  {
   "cell_type": "code",
   "execution_count": 18,
   "metadata": {},
   "outputs": [],
   "source": [
    "def prime_divisors(num):\n",
    "    \n",
    "    if num == 2:\n",
    "        return [2]\n",
    "    \n",
    "    prime_div_list = []\n",
    "    \n",
    "    \n",
    "    for i in range(2, int(num / 2) + 1):\n",
    "        if is_prime(i):\n",
    "            if num % i == 0:\n",
    "                prime_div_list.append(i)\n",
    "                prime_div_list += prime_divisors(int(num / i))\n",
    "                break\n",
    "    \n",
    "    if len(prime_div_list) == 0:\n",
    "        prime_div_list.append(num)\n",
    "    \n",
    "    return prime_div_list"
   ]
  },
  {
   "cell_type": "code",
   "execution_count": 19,
   "metadata": {},
   "outputs": [],
   "source": [
    "def GCD(list_of_num):\n",
    "    \n",
    "    prime_div_list_of_lists = []\n",
    "    \n",
    "    for num in list_of_num:\n",
    "        prime_div_list_of_lists.append(prime_divisors(num))\n",
    "    \n",
    "    common_list = prime_div_list_of_lists[0]\n",
    "\n",
    "    for i in range(len(prime_div_list_of_lists) - 1):\n",
    "        list1 = common_list\n",
    "        list2 = prime_div_list_of_lists[i+1]\n",
    "\n",
    "        overlap_list = []\n",
    "\n",
    "        for element in list1:\n",
    "            if element in list2:\n",
    "                overlap_list.append(element)\n",
    "                list2.remove(element)\n",
    "\n",
    "        common_list = overlap_list\n",
    "    \n",
    "    gcd_val = 1\n",
    "    \n",
    "    for i in common_list:\n",
    "        gcd_val *= i\n",
    "    \n",
    "    return gcd_val"
   ]
  },
  {
   "cell_type": "code",
   "execution_count": 20,
   "metadata": {},
   "outputs": [
    {
     "data": {
      "text/plain": [
       "10"
      ]
     },
     "execution_count": 20,
     "metadata": {},
     "output_type": "execute_result"
    }
   ],
   "source": [
    "GCD([10, 20, 40]) "
   ]
  },
  {
   "cell_type": "code",
   "execution_count": 21,
   "metadata": {},
   "outputs": [
    {
     "data": {
      "text/plain": [
       "1"
      ]
     },
     "execution_count": 21,
     "metadata": {},
     "output_type": "execute_result"
    }
   ],
   "source": [
    "GCD([1, 2, 3, 100])"
   ]
  },
  {
   "cell_type": "code",
   "execution_count": 22,
   "metadata": {},
   "outputs": [
    {
     "data": {
      "text/plain": [
       "64"
      ]
     },
     "execution_count": 22,
     "metadata": {},
     "output_type": "execute_result"
    }
   ],
   "source": [
    "GCD([1024, 192, 2048, 512])"
   ]
  },
  {
   "cell_type": "markdown",
   "metadata": {},
   "source": [
    "### 5. A number/string is a palindrome if the digits/characters are the same when read both forward and backward. Examples include \"racecar\" and 12321. Given a positive number n, check if n or the binary representation of n is palindromic. Return the following:\n",
    "\n",
    "- \"Decimal only.\" if only n is a palindrome.\n",
    "- \"Binary only.\" if only the binary representation of n is a palindrome.\n",
    "- \"Decimal and binary.\" if both are palindromes.\n",
    "- \"Neither!\" if neither are palindromes."
   ]
  },
  {
   "cell_type": "code",
   "execution_count": 23,
   "metadata": {},
   "outputs": [],
   "source": [
    "def binary(num):\n",
    "    \"\"\"\n",
    "    This function returns binary of a number\n",
    "    \"\"\"\n",
    "    \n",
    "    try:\n",
    "        lg.info(\"Input by user : {}\".format(num))\n",
    "        \n",
    "        q = num\n",
    "        binary_list = []\n",
    "        \n",
    "        while q > 0:\n",
    "            binary_list.append(q % 2)\n",
    "            \n",
    "            q = int(q / 2)\n",
    "        \n",
    "        binary_list = binary_list[::-1]\n",
    "        \n",
    "        return binary_list\n",
    "        \n",
    "    except Exception as e:\n",
    "        print(\"Check logs for error\")\n",
    "        lg.error(\"Error occured here\")\n",
    "        lg.exception(e)"
   ]
  },
  {
   "cell_type": "code",
   "execution_count": 24,
   "metadata": {},
   "outputs": [
    {
     "data": {
      "text/plain": [
       "[1, 1, 1, 1]"
      ]
     },
     "execution_count": 24,
     "metadata": {},
     "output_type": "execute_result"
    }
   ],
   "source": [
    "binary(15)"
   ]
  },
  {
   "cell_type": "code",
   "execution_count": 25,
   "metadata": {},
   "outputs": [],
   "source": [
    "def palindrome_type(num):\n",
    "    \"\"\"\n",
    "    This function takes as input a number and returns if a number or its binary are palindrome or not.\n",
    "    \"\"\"\n",
    "    \n",
    "    try:\n",
    "        lg.info(\"Input by user : {}\".format(num))\n",
    "        \n",
    "        binary_val = binary(num)\n",
    "        \n",
    "        if str(num) == str(num)[::-1] and binary_val == binary_val[::-1]:\n",
    "            \n",
    "            return \"Decimal and binary.\"\n",
    "        \n",
    "        elif str(num) == str(num)[::-1] and not binary_val == binary_val[::-1]:\n",
    "            \n",
    "            return \"Decimal only.\"\n",
    "        \n",
    "        elif not str(num) == str(num)[::-1] and binary_val == binary_val[::-1]:\n",
    "            \n",
    "            return \"Binary only.\"\n",
    "        \n",
    "        else:\n",
    "            \n",
    "            return \"Neither!\"\n",
    "        \n",
    "    except Exception as e:\n",
    "        print(\"Check logs for error\")\n",
    "        lg.error(\"Error occured here\")\n",
    "        lg.exception(e)"
   ]
  },
  {
   "cell_type": "code",
   "execution_count": 26,
   "metadata": {},
   "outputs": [
    {
     "data": {
      "text/plain": [
       "'Decimal only.'"
      ]
     },
     "execution_count": 26,
     "metadata": {},
     "output_type": "execute_result"
    }
   ],
   "source": [
    "palindrome_type(1306031) "
   ]
  },
  {
   "cell_type": "code",
   "execution_count": 27,
   "metadata": {},
   "outputs": [
    {
     "data": {
      "text/plain": [
       "'Binary only.'"
      ]
     },
     "execution_count": 27,
     "metadata": {},
     "output_type": "execute_result"
    }
   ],
   "source": [
    "palindrome_type(427787)"
   ]
  },
  {
   "cell_type": "code",
   "execution_count": 28,
   "metadata": {},
   "outputs": [
    {
     "data": {
      "text/plain": [
       "'Decimal and binary.'"
      ]
     },
     "execution_count": 28,
     "metadata": {},
     "output_type": "execute_result"
    }
   ],
   "source": [
    "palindrome_type(313)"
   ]
  },
  {
   "cell_type": "code",
   "execution_count": 29,
   "metadata": {},
   "outputs": [
    {
     "data": {
      "text/plain": [
       "'Neither!'"
      ]
     },
     "execution_count": 29,
     "metadata": {},
     "output_type": "execute_result"
    }
   ],
   "source": [
    "palindrome_type(934)"
   ]
  }
 ],
 "metadata": {
  "kernelspec": {
   "display_name": "Python 3",
   "language": "python",
   "name": "python3"
  },
  "language_info": {
   "codemirror_mode": {
    "name": "ipython",
    "version": 3
   },
   "file_extension": ".py",
   "mimetype": "text/x-python",
   "name": "python",
   "nbconvert_exporter": "python",
   "pygments_lexer": "ipython3",
   "version": "3.8.5"
  }
 },
 "nbformat": 4,
 "nbformat_minor": 4
}
