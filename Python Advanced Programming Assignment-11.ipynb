{
 "cells": [
  {
   "cell_type": "markdown",
   "metadata": {},
   "source": [
    "# Python Advanced Programming Assignment-11"
   ]
  },
  {
   "cell_type": "code",
   "execution_count": 1,
   "metadata": {},
   "outputs": [],
   "source": [
    "import logging as lg\n",
    "import re"
   ]
  },
  {
   "cell_type": "code",
   "execution_count": 2,
   "metadata": {},
   "outputs": [],
   "source": [
    "lg.basicConfig(filename = \"logfile.log\", level = lg.INFO, format = '%(asctime)s %(name)s %(message)s')"
   ]
  },
  {
   "cell_type": "markdown",
   "metadata": {},
   "source": [
    "### 1. Create a function that takes a list and returns a new list containing only prime numbers."
   ]
  },
  {
   "cell_type": "code",
   "execution_count": 3,
   "metadata": {},
   "outputs": [],
   "source": [
    "def filter_primes(list_inp):\n",
    "    \"\"\"\n",
    "    This function takes a list of numbers and returns a new list containing only prime numbers.\n",
    "    \"\"\"\n",
    "    \n",
    "    try:\n",
    "        \n",
    "        lg.info(\"Input by user : {}\".format(list_inp))\n",
    "        \n",
    "        prime_list = []\n",
    "\n",
    "        for i in list_inp:\n",
    "            if i == 1:\n",
    "                continue\n",
    "\n",
    "            for j in range(2, int(i/2) + 1):\n",
    "                if i % j == 0:\n",
    "                    break\n",
    "            else:\n",
    "                prime_list.append(i)\n",
    "                \n",
    "        \n",
    "        return prime_list\n",
    "        \n",
    "    except Exception as e:\n",
    "        print(\"Check logs for error\")\n",
    "        lg.error(\"Error occured here\")\n",
    "        lg.exception(e)"
   ]
  },
  {
   "cell_type": "code",
   "execution_count": 4,
   "metadata": {},
   "outputs": [],
   "source": [
    "filter_primes([7, 9, 3, 9, 10, 11, 27])"
   ]
  },
  {
   "cell_type": "code",
   "execution_count": 5,
   "metadata": {},
   "outputs": [],
   "source": [
    "filter_primes([10007, 1009, 1007, 27, 147, 77, 1001, 70])"
   ]
  },
  {
   "cell_type": "code",
   "execution_count": 6,
   "metadata": {},
   "outputs": [],
   "source": [
    "filter_primes([1009, 10, 10, 10, 3, 33, 9, 4, 1, 61, 63, 69, 1087, 1091, 1093, 1097])"
   ]
  },
  {
   "cell_type": "markdown",
   "metadata": {},
   "source": [
    "### 2. Once a water balloon pops, is soaks the area around it. The ground gets drier the further away you travel from the balloon.\n",
    "\n",
    "### The effect of a water balloon popping can be modeled using a list. Create a function that takes a list which takes the pre-pop state and returns the state after the balloon is popped. The pre-pop state will contain at most a single balloon, whose size is represented by the only non-zero element."
   ]
  },
  {
   "cell_type": "code",
   "execution_count": 7,
   "metadata": {},
   "outputs": [],
   "source": [
    "def pop(list_inp):\n",
    "    \n",
    "    if len(list_inp) % 2 == 0:\n",
    "        print(\"List input should have odd numbers\")\n",
    "        return list_inp\n",
    "    \n",
    "    n = len(list_inp)\n",
    "    \n",
    "    if not list_inp[: int(n/2)] == [0] * int(n/2) or not list_inp[int(n/2) + 1: ] == [0] * int(n/2):\n",
    "        print(\"first half and second half both should have only 0s\")\n",
    "        return list_inp\n",
    "    \n",
    "    left_side = list_inp[: int(n/2)]\n",
    "    \n",
    "    right_side = list_inp[int(n/2) + 1: ]\n",
    "    \n",
    "    mid_val = list_inp[int(n/2)]\n",
    "    \n",
    "    mid_val_pop = mid_val\n",
    "    \n",
    "    for i in range(len(left_side)):\n",
    "        \n",
    "        mid_val_pop -= 1\n",
    "        \n",
    "        if mid_val_pop > 0:\n",
    "            \n",
    "            left_side[len(left_side) - i - 1] += mid_val_pop\n",
    "            right_side[i] += mid_val_pop\n",
    "        \n",
    "    \n",
    "    return_list = left_side + [mid_val] + right_side\n",
    "    \n",
    "    return return_list"
   ]
  },
  {
   "cell_type": "code",
   "execution_count": 8,
   "metadata": {},
   "outputs": [],
   "source": [
    "pop([0, 0, 0, 0, 4, 0, 0, 0, 0])"
   ]
  },
  {
   "cell_type": "code",
   "execution_count": 9,
   "metadata": {},
   "outputs": [],
   "source": [
    "pop([0, 0, 0, 3, 0, 0, 0]) "
   ]
  },
  {
   "cell_type": "code",
   "execution_count": 10,
   "metadata": {},
   "outputs": [],
   "source": [
    "pop([0, 0, 2, 0, 0])"
   ]
  },
  {
   "cell_type": "code",
   "execution_count": 11,
   "metadata": {},
   "outputs": [],
   "source": [
    "pop([0]) "
   ]
  },
  {
   "cell_type": "code",
   "execution_count": 12,
   "metadata": {},
   "outputs": [],
   "source": [
    "pop([0, 0, 2, 0, 0, 0])"
   ]
  },
  {
   "cell_type": "code",
   "execution_count": 13,
   "metadata": {
    "scrolled": true
   },
   "outputs": [],
   "source": [
    "pop([0, 0, 1, 2, 1, 0, 0])"
   ]
  },
  {
   "cell_type": "markdown",
   "metadata": {},
   "source": [
    "### 3. \"Loves me, loves me not\" is a traditional game in which a person plucks off all the petals of a flower one by one, saying the phrase \"Loves me\" and \"Loves me not\" when determining whether the one that they love, loves them back.\n",
    "\n",
    "### Given a number of petals, return a string which repeats the phrases \"Loves me\" and \"Loves me not\" for every alternating petal, and return the last phrase in all caps. Remember to put a comma and space between phrases."
   ]
  },
  {
   "cell_type": "code",
   "execution_count": 14,
   "metadata": {},
   "outputs": [],
   "source": [
    "def loves_me(num):\n",
    "        \n",
    "    try:\n",
    "        lg.info(\"Input by user : {}\".format(num))\n",
    "        \n",
    "        love_arr = ['Loves me', 'Loves me not']\n",
    "\n",
    "        final_list = []\n",
    "        for i in range(num):\n",
    "            final_list.append(love_arr[i % 2])\n",
    "            \n",
    "        final_list[-1] = final_list[-1].upper()\n",
    "        \n",
    "        return ', '.join(final_list)\n",
    "        \n",
    "    except Exception as e:\n",
    "        print(\"Check logs for error\")\n",
    "        lg.error(\"Error occured here\")\n",
    "        lg.exception(e)"
   ]
  },
  {
   "cell_type": "code",
   "execution_count": 15,
   "metadata": {},
   "outputs": [],
   "source": [
    "loves_me(3) "
   ]
  },
  {
   "cell_type": "code",
   "execution_count": 16,
   "metadata": {},
   "outputs": [],
   "source": [
    "loves_me(6)"
   ]
  },
  {
   "cell_type": "code",
   "execution_count": 17,
   "metadata": {},
   "outputs": [],
   "source": [
    "loves_me(1)"
   ]
  },
  {
   "cell_type": "markdown",
   "metadata": {},
   "source": [
    "### 4. Write a function that sorts each string in a list by the letter in alphabetic ascending order (a-z)."
   ]
  },
  {
   "cell_type": "code",
   "execution_count": 18,
   "metadata": {},
   "outputs": [],
   "source": [
    "def sort_by_letter(input_list):\n",
    "    try:\n",
    "        lg.info(\"Input by user : {}\".format(input_list))\n",
    "        \n",
    "        temp_list = [[] for _ in range(len(input_list))]\n",
    "        \n",
    "        for i in range(len(input_list)):\n",
    "            for j in input_list[i]:\n",
    "                if j.isalpha():\n",
    "                    temp_list[i].append(j)\n",
    "                    break\n",
    "\n",
    "            temp_list[i].append(input_list[i])\n",
    "        \n",
    "        temp_list.sort()\n",
    "        \n",
    "        final_list = []\n",
    "        for i in range(len(temp_list)):\n",
    "            final_list.append(temp_list[i][1])\n",
    "            \n",
    "        return final_list\n",
    "        \n",
    "    except Exception as e:\n",
    "        print(\"Check logs for error\")\n",
    "        lg.error(\"Error occured here\")\n",
    "        lg.exception(e)"
   ]
  },
  {
   "cell_type": "code",
   "execution_count": 19,
   "metadata": {},
   "outputs": [
    {
     "data": {
      "text/plain": [
       "['2344b', '932c', '832u32']"
      ]
     },
     "execution_count": 19,
     "metadata": {},
     "output_type": "execute_result"
    }
   ],
   "source": [
    "sort_by_letter([\"932c\", \"832u32\", \"2344b\"])"
   ]
  },
  {
   "cell_type": "code",
   "execution_count": 20,
   "metadata": {},
   "outputs": [
    {
     "data": {
      "text/plain": [
       "['99a', '78b', 'c2345', '11d']"
      ]
     },
     "execution_count": 20,
     "metadata": {},
     "output_type": "execute_result"
    }
   ],
   "source": [
    "sort_by_letter([\"99a\", \"78b\", \"c2345\", \"11d\"])"
   ]
  },
  {
   "cell_type": "code",
   "execution_count": 21,
   "metadata": {},
   "outputs": [
    {
     "data": {
      "text/plain": [
       "['304q2', '5y5', '572z']"
      ]
     },
     "execution_count": 21,
     "metadata": {},
     "output_type": "execute_result"
    }
   ],
   "source": [
    "sort_by_letter([\"572z\", \"5y5\", \"304q2\"])"
   ]
  },
  {
   "cell_type": "code",
   "execution_count": 22,
   "metadata": {},
   "outputs": [
    {
     "data": {
      "text/plain": [
       "[]"
      ]
     },
     "execution_count": 22,
     "metadata": {},
     "output_type": "execute_result"
    }
   ],
   "source": [
    "sort_by_letter([])"
   ]
  },
  {
   "cell_type": "markdown",
   "metadata": {},
   "source": [
    "### 5. There are three cups on a table, at positions A, B, and C. At the start, there is a ball hidden under the cup at position B. However, I perform several swaps on the cups, which is notated as two letters. For example, if I swap the cups at positions A and B, I could notate this as AB or BA.\n",
    "\n",
    "### Create a function that returns the letter position that the ball is at, once I finish swapping the cups. The swaps will be given to you as a list.\n"
   ]
  },
  {
   "cell_type": "code",
   "execution_count": 23,
   "metadata": {},
   "outputs": [],
   "source": [
    "def cup_swapping(swap_steps):\n",
    "    \n",
    "    try:\n",
    "        lg.info(\"Input by user : {}\".format(swap_steps))\n",
    "        \n",
    "        l = ['A', 'B', 'C']\n",
    "        \n",
    "        positions = {'A':0, 'B':1, 'C':2}\n",
    "        \n",
    "        swap_steps_num = ['' for _ in range(len(swap_steps))]\n",
    "        \n",
    "        for i in range(len(swap_steps)):\n",
    "            for j in swap_steps[i]:\n",
    "                swap_steps_num[i] += str(positions[j])\n",
    "                \n",
    "        temp_list = [i for i in l]\n",
    "        \n",
    "        for i in swap_steps_num:\n",
    "            temp = temp_list[int(i[0])]\n",
    "            temp_list[int(i[0])] = temp_list[int(i[1])]\n",
    "            temp_list[int(i[1])] = temp\n",
    "        \n",
    "        return temp_list[positions['B']]\n",
    "        \n",
    "    except Exception as e:\n",
    "        print(\"Check logs for error\")\n",
    "        lg.error(\"Error occured here\")\n",
    "        lg.exception(e)"
   ]
  },
  {
   "cell_type": "code",
   "execution_count": 24,
   "metadata": {},
   "outputs": [
    {
     "data": {
      "text/plain": [
       "'C'"
      ]
     },
     "execution_count": 24,
     "metadata": {},
     "output_type": "execute_result"
    }
   ],
   "source": [
    "cup_swapping([\"AB\", \"CA\", \"AB\"]) "
   ]
  },
  {
   "cell_type": "code",
   "execution_count": 25,
   "metadata": {},
   "outputs": [
    {
     "data": {
      "text/plain": [
       "'B'"
      ]
     },
     "execution_count": 25,
     "metadata": {},
     "output_type": "execute_result"
    }
   ],
   "source": [
    "cup_swapping([\"AB\", \"CA\", \"AB\", \"BC\"]) "
   ]
  }
 ],
 "metadata": {
  "kernelspec": {
   "display_name": "Python 3",
   "language": "python",
   "name": "python3"
  },
  "language_info": {
   "codemirror_mode": {
    "name": "ipython",
    "version": 3
   },
   "file_extension": ".py",
   "mimetype": "text/x-python",
   "name": "python",
   "nbconvert_exporter": "python",
   "pygments_lexer": "ipython3",
   "version": "3.8.5"
  }
 },
 "nbformat": 4,
 "nbformat_minor": 4
}
